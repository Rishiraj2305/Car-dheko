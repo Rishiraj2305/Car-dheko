{
 "cells": [
  {
   "cell_type": "code",
   "execution_count": 1,
   "metadata": {},
   "outputs": [],
   "source": [
    "import pandas as pd"
   ]
  },
  {
   "cell_type": "code",
   "execution_count": 2,
   "metadata": {},
   "outputs": [],
   "source": [
    "new_car=pd.read_csv(\"cardata.csv\")"
   ]
  },
  {
   "cell_type": "code",
   "execution_count": 3,
   "metadata": {},
   "outputs": [
    {
     "name": "stdout",
     "output_type": "stream",
     "text": [
      "<class 'pandas.core.frame.DataFrame'>\n",
      "RangeIndex: 8732 entries, 0 to 8731\n",
      "Data columns (total 15 columns):\n",
      " #   Column        Non-Null Count  Dtype  \n",
      "---  ------        --------------  -----  \n",
      " 0   bodytype      8732 non-null   object \n",
      " 1   seats         8732 non-null   float64\n",
      " 2   kms           8732 non-null   int64  \n",
      " 3   modelYear     8732 non-null   int64  \n",
      " 4   fueltype      8732 non-null   object \n",
      " 5   ownerNo       8732 non-null   int64  \n",
      " 6   transmission  8732 non-null   object \n",
      " 7   price         8732 non-null   int64  \n",
      " 8   Insurance     8732 non-null   object \n",
      " 9   engine_cc     8732 non-null   float64\n",
      " 10  oem           8732 non-null   object \n",
      " 11  Gearbox       8732 non-null   int64  \n",
      " 12  Mileage       8732 non-null   float64\n",
      " 13  DriveType     8732 non-null   object \n",
      " 14  city          8732 non-null   object \n",
      "dtypes: float64(3), int64(5), object(7)\n",
      "memory usage: 1023.4+ KB\n"
     ]
    }
   ],
   "source": [
    "new_car.info()\n"
   ]
  },
  {
   "cell_type": "code",
   "execution_count": 4,
   "metadata": {},
   "outputs": [
    {
     "data": {
      "text/html": [
       "<div>\n",
       "<style scoped>\n",
       "    .dataframe tbody tr th:only-of-type {\n",
       "        vertical-align: middle;\n",
       "    }\n",
       "\n",
       "    .dataframe tbody tr th {\n",
       "        vertical-align: top;\n",
       "    }\n",
       "\n",
       "    .dataframe thead th {\n",
       "        text-align: right;\n",
       "    }\n",
       "</style>\n",
       "<table border=\"1\" class=\"dataframe\">\n",
       "  <thead>\n",
       "    <tr style=\"text-align: right;\">\n",
       "      <th></th>\n",
       "      <th>bodytype</th>\n",
       "      <th>seats</th>\n",
       "      <th>kms</th>\n",
       "      <th>modelYear</th>\n",
       "      <th>fueltype</th>\n",
       "      <th>ownerNo</th>\n",
       "      <th>transmission</th>\n",
       "      <th>price</th>\n",
       "      <th>Insurance</th>\n",
       "      <th>engine_cc</th>\n",
       "      <th>oem</th>\n",
       "      <th>Gearbox</th>\n",
       "      <th>Mileage</th>\n",
       "      <th>DriveType</th>\n",
       "      <th>city</th>\n",
       "    </tr>\n",
       "  </thead>\n",
       "  <tbody>\n",
       "    <tr>\n",
       "      <th>0</th>\n",
       "      <td>SUV</td>\n",
       "      <td>5.0</td>\n",
       "      <td>20000</td>\n",
       "      <td>2022</td>\n",
       "      <td>Petrol</td>\n",
       "      <td>1</td>\n",
       "      <td>Automatic</td>\n",
       "      <td>1150000</td>\n",
       "      <td>Third Party insurance</td>\n",
       "      <td>998.0</td>\n",
       "      <td>Kia</td>\n",
       "      <td>7</td>\n",
       "      <td>18.90</td>\n",
       "      <td>FWD</td>\n",
       "      <td>chennai</td>\n",
       "    </tr>\n",
       "    <tr>\n",
       "      <th>1</th>\n",
       "      <td>Minivans</td>\n",
       "      <td>7.0</td>\n",
       "      <td>20687</td>\n",
       "      <td>2015</td>\n",
       "      <td>Petrol</td>\n",
       "      <td>1</td>\n",
       "      <td>Manual</td>\n",
       "      <td>415000</td>\n",
       "      <td>Comprehensive</td>\n",
       "      <td>1196.0</td>\n",
       "      <td>Maruti</td>\n",
       "      <td>5</td>\n",
       "      <td>15.37</td>\n",
       "      <td>RWD</td>\n",
       "      <td>chennai</td>\n",
       "    </tr>\n",
       "    <tr>\n",
       "      <th>2</th>\n",
       "      <td>SUV</td>\n",
       "      <td>5.0</td>\n",
       "      <td>30000</td>\n",
       "      <td>2021</td>\n",
       "      <td>Petrol</td>\n",
       "      <td>1</td>\n",
       "      <td>Manual</td>\n",
       "      <td>750000</td>\n",
       "      <td>Third Party insurance</td>\n",
       "      <td>999.0</td>\n",
       "      <td>Nissan</td>\n",
       "      <td>5</td>\n",
       "      <td>20.00</td>\n",
       "      <td>FWD</td>\n",
       "      <td>chennai</td>\n",
       "    </tr>\n",
       "    <tr>\n",
       "      <th>3</th>\n",
       "      <td>Hatchback</td>\n",
       "      <td>5.0</td>\n",
       "      <td>59247</td>\n",
       "      <td>2015</td>\n",
       "      <td>Petrol</td>\n",
       "      <td>1</td>\n",
       "      <td>Manual</td>\n",
       "      <td>398000</td>\n",
       "      <td>Comprehensive</td>\n",
       "      <td>1086.0</td>\n",
       "      <td>Hyundai</td>\n",
       "      <td>5</td>\n",
       "      <td>19.81</td>\n",
       "      <td>FWD</td>\n",
       "      <td>chennai</td>\n",
       "    </tr>\n",
       "    <tr>\n",
       "      <th>4</th>\n",
       "      <td>Hatchback</td>\n",
       "      <td>5.0</td>\n",
       "      <td>50000</td>\n",
       "      <td>2015</td>\n",
       "      <td>Petrol</td>\n",
       "      <td>1</td>\n",
       "      <td>Manual</td>\n",
       "      <td>550000</td>\n",
       "      <td>Third Party insurance</td>\n",
       "      <td>1199.0</td>\n",
       "      <td>Honda</td>\n",
       "      <td>5</td>\n",
       "      <td>18.70</td>\n",
       "      <td>FWD</td>\n",
       "      <td>chennai</td>\n",
       "    </tr>\n",
       "  </tbody>\n",
       "</table>\n",
       "</div>"
      ],
      "text/plain": [
       "    bodytype  seats    kms  modelYear fueltype  ownerNo transmission    price  \\\n",
       "0        SUV    5.0  20000       2022   Petrol        1    Automatic  1150000   \n",
       "1   Minivans    7.0  20687       2015   Petrol        1       Manual   415000   \n",
       "2        SUV    5.0  30000       2021   Petrol        1       Manual   750000   \n",
       "3  Hatchback    5.0  59247       2015   Petrol        1       Manual   398000   \n",
       "4  Hatchback    5.0  50000       2015   Petrol        1       Manual   550000   \n",
       "\n",
       "               Insurance  engine_cc      oem  Gearbox  Mileage DriveType  \\\n",
       "0  Third Party insurance      998.0      Kia        7    18.90       FWD   \n",
       "1          Comprehensive     1196.0   Maruti        5    15.37       RWD   \n",
       "2  Third Party insurance      999.0   Nissan        5    20.00       FWD   \n",
       "3          Comprehensive     1086.0  Hyundai        5    19.81       FWD   \n",
       "4  Third Party insurance     1199.0    Honda        5    18.70       FWD   \n",
       "\n",
       "      city  \n",
       "0  chennai  \n",
       "1  chennai  \n",
       "2  chennai  \n",
       "3  chennai  \n",
       "4  chennai  "
      ]
     },
     "execution_count": 4,
     "metadata": {},
     "output_type": "execute_result"
    }
   ],
   "source": [
    "new_car.head()"
   ]
  },
  {
   "cell_type": "code",
   "execution_count": 5,
   "metadata": {},
   "outputs": [
    {
     "data": {
      "text/html": [
       "<div>\n",
       "<style scoped>\n",
       "    .dataframe tbody tr th:only-of-type {\n",
       "        vertical-align: middle;\n",
       "    }\n",
       "\n",
       "    .dataframe tbody tr th {\n",
       "        vertical-align: top;\n",
       "    }\n",
       "\n",
       "    .dataframe thead th {\n",
       "        text-align: right;\n",
       "    }\n",
       "</style>\n",
       "<table border=\"1\" class=\"dataframe\">\n",
       "  <thead>\n",
       "    <tr style=\"text-align: right;\">\n",
       "      <th></th>\n",
       "      <th>seats</th>\n",
       "      <th>kms</th>\n",
       "      <th>modelYear</th>\n",
       "      <th>ownerNo</th>\n",
       "      <th>price</th>\n",
       "      <th>engine_cc</th>\n",
       "      <th>Gearbox</th>\n",
       "      <th>Mileage</th>\n",
       "    </tr>\n",
       "  </thead>\n",
       "  <tbody>\n",
       "    <tr>\n",
       "      <th>count</th>\n",
       "      <td>8732.000000</td>\n",
       "      <td>8.732000e+03</td>\n",
       "      <td>8732.000000</td>\n",
       "      <td>8732.000000</td>\n",
       "      <td>8.732000e+03</td>\n",
       "      <td>8732.000000</td>\n",
       "      <td>8732.000000</td>\n",
       "      <td>8732.000000</td>\n",
       "    </tr>\n",
       "    <tr>\n",
       "      <th>mean</th>\n",
       "      <td>5.194686</td>\n",
       "      <td>5.821430e+04</td>\n",
       "      <td>2016.576729</td>\n",
       "      <td>1.338754</td>\n",
       "      <td>9.691022e+05</td>\n",
       "      <td>1417.307833</td>\n",
       "      <td>5.445259</td>\n",
       "      <td>19.229364</td>\n",
       "    </tr>\n",
       "    <tr>\n",
       "      <th>std</th>\n",
       "      <td>0.650897</td>\n",
       "      <td>7.224426e+04</td>\n",
       "      <td>3.875682</td>\n",
       "      <td>0.603313</td>\n",
       "      <td>1.411604e+06</td>\n",
       "      <td>468.826351</td>\n",
       "      <td>0.908280</td>\n",
       "      <td>3.878832</td>\n",
       "    </tr>\n",
       "    <tr>\n",
       "      <th>min</th>\n",
       "      <td>2.000000</td>\n",
       "      <td>0.000000e+00</td>\n",
       "      <td>1985.000000</td>\n",
       "      <td>0.000000</td>\n",
       "      <td>2.016100e+04</td>\n",
       "      <td>0.000000</td>\n",
       "      <td>4.000000</td>\n",
       "      <td>7.080000</td>\n",
       "    </tr>\n",
       "    <tr>\n",
       "      <th>25%</th>\n",
       "      <td>5.000000</td>\n",
       "      <td>3.022400e+04</td>\n",
       "      <td>2014.000000</td>\n",
       "      <td>1.000000</td>\n",
       "      <td>4.099990e+05</td>\n",
       "      <td>1197.000000</td>\n",
       "      <td>5.000000</td>\n",
       "      <td>17.100000</td>\n",
       "    </tr>\n",
       "    <tr>\n",
       "      <th>50%</th>\n",
       "      <td>5.000000</td>\n",
       "      <td>5.365100e+04</td>\n",
       "      <td>2017.000000</td>\n",
       "      <td>1.000000</td>\n",
       "      <td>6.200000e+05</td>\n",
       "      <td>1248.000000</td>\n",
       "      <td>5.000000</td>\n",
       "      <td>18.900000</td>\n",
       "    </tr>\n",
       "    <tr>\n",
       "      <th>75%</th>\n",
       "      <td>5.000000</td>\n",
       "      <td>7.950325e+04</td>\n",
       "      <td>2019.000000</td>\n",
       "      <td>2.000000</td>\n",
       "      <td>9.690000e+05</td>\n",
       "      <td>1498.000000</td>\n",
       "      <td>6.000000</td>\n",
       "      <td>21.400000</td>\n",
       "    </tr>\n",
       "    <tr>\n",
       "      <th>max</th>\n",
       "      <td>10.000000</td>\n",
       "      <td>5.500000e+06</td>\n",
       "      <td>2023.000000</td>\n",
       "      <td>5.000000</td>\n",
       "      <td>4.150000e+07</td>\n",
       "      <td>5000.000000</td>\n",
       "      <td>10.000000</td>\n",
       "      <td>140.000000</td>\n",
       "    </tr>\n",
       "  </tbody>\n",
       "</table>\n",
       "</div>"
      ],
      "text/plain": [
       "             seats           kms    modelYear      ownerNo         price  \\\n",
       "count  8732.000000  8.732000e+03  8732.000000  8732.000000  8.732000e+03   \n",
       "mean      5.194686  5.821430e+04  2016.576729     1.338754  9.691022e+05   \n",
       "std       0.650897  7.224426e+04     3.875682     0.603313  1.411604e+06   \n",
       "min       2.000000  0.000000e+00  1985.000000     0.000000  2.016100e+04   \n",
       "25%       5.000000  3.022400e+04  2014.000000     1.000000  4.099990e+05   \n",
       "50%       5.000000  5.365100e+04  2017.000000     1.000000  6.200000e+05   \n",
       "75%       5.000000  7.950325e+04  2019.000000     2.000000  9.690000e+05   \n",
       "max      10.000000  5.500000e+06  2023.000000     5.000000  4.150000e+07   \n",
       "\n",
       "         engine_cc      Gearbox      Mileage  \n",
       "count  8732.000000  8732.000000  8732.000000  \n",
       "mean   1417.307833     5.445259    19.229364  \n",
       "std     468.826351     0.908280     3.878832  \n",
       "min       0.000000     4.000000     7.080000  \n",
       "25%    1197.000000     5.000000    17.100000  \n",
       "50%    1248.000000     5.000000    18.900000  \n",
       "75%    1498.000000     6.000000    21.400000  \n",
       "max    5000.000000    10.000000   140.000000  "
      ]
     },
     "execution_count": 5,
     "metadata": {},
     "output_type": "execute_result"
    }
   ],
   "source": [
    "new_car.describe()\n"
   ]
  },
  {
   "cell_type": "code",
   "execution_count": 6,
   "metadata": {},
   "outputs": [
    {
     "data": {
      "text/html": [
       "<div>\n",
       "<style scoped>\n",
       "    .dataframe tbody tr th:only-of-type {\n",
       "        vertical-align: middle;\n",
       "    }\n",
       "\n",
       "    .dataframe tbody tr th {\n",
       "        vertical-align: top;\n",
       "    }\n",
       "\n",
       "    .dataframe thead th {\n",
       "        text-align: right;\n",
       "    }\n",
       "</style>\n",
       "<table border=\"1\" class=\"dataframe\">\n",
       "  <thead>\n",
       "    <tr style=\"text-align: right;\">\n",
       "      <th></th>\n",
       "      <th>bodytype</th>\n",
       "      <th>seats</th>\n",
       "      <th>kms</th>\n",
       "      <th>modelYear</th>\n",
       "      <th>fueltype</th>\n",
       "      <th>ownerNo</th>\n",
       "      <th>transmission</th>\n",
       "      <th>price</th>\n",
       "      <th>Insurance</th>\n",
       "      <th>engine_cc</th>\n",
       "      <th>oem</th>\n",
       "      <th>Gearbox</th>\n",
       "      <th>Mileage</th>\n",
       "      <th>DriveType</th>\n",
       "      <th>city</th>\n",
       "    </tr>\n",
       "  </thead>\n",
       "  <tbody>\n",
       "    <tr>\n",
       "      <th>0</th>\n",
       "      <td>SUV</td>\n",
       "      <td>5.0</td>\n",
       "      <td>20000</td>\n",
       "      <td>2022</td>\n",
       "      <td>Petrol</td>\n",
       "      <td>1</td>\n",
       "      <td>Automatic</td>\n",
       "      <td>1150000</td>\n",
       "      <td>Third Party insurance</td>\n",
       "      <td>998.0</td>\n",
       "      <td>Kia</td>\n",
       "      <td>7</td>\n",
       "      <td>18.90</td>\n",
       "      <td>FWD</td>\n",
       "      <td>chennai</td>\n",
       "    </tr>\n",
       "    <tr>\n",
       "      <th>1</th>\n",
       "      <td>Minivans</td>\n",
       "      <td>7.0</td>\n",
       "      <td>20687</td>\n",
       "      <td>2015</td>\n",
       "      <td>Petrol</td>\n",
       "      <td>1</td>\n",
       "      <td>Manual</td>\n",
       "      <td>415000</td>\n",
       "      <td>Comprehensive</td>\n",
       "      <td>1196.0</td>\n",
       "      <td>Maruti</td>\n",
       "      <td>5</td>\n",
       "      <td>15.37</td>\n",
       "      <td>RWD</td>\n",
       "      <td>chennai</td>\n",
       "    </tr>\n",
       "    <tr>\n",
       "      <th>2</th>\n",
       "      <td>SUV</td>\n",
       "      <td>5.0</td>\n",
       "      <td>30000</td>\n",
       "      <td>2021</td>\n",
       "      <td>Petrol</td>\n",
       "      <td>1</td>\n",
       "      <td>Manual</td>\n",
       "      <td>750000</td>\n",
       "      <td>Third Party insurance</td>\n",
       "      <td>999.0</td>\n",
       "      <td>Nissan</td>\n",
       "      <td>5</td>\n",
       "      <td>20.00</td>\n",
       "      <td>FWD</td>\n",
       "      <td>chennai</td>\n",
       "    </tr>\n",
       "    <tr>\n",
       "      <th>3</th>\n",
       "      <td>Hatchback</td>\n",
       "      <td>5.0</td>\n",
       "      <td>59247</td>\n",
       "      <td>2015</td>\n",
       "      <td>Petrol</td>\n",
       "      <td>1</td>\n",
       "      <td>Manual</td>\n",
       "      <td>398000</td>\n",
       "      <td>Comprehensive</td>\n",
       "      <td>1086.0</td>\n",
       "      <td>Hyundai</td>\n",
       "      <td>5</td>\n",
       "      <td>19.81</td>\n",
       "      <td>FWD</td>\n",
       "      <td>chennai</td>\n",
       "    </tr>\n",
       "    <tr>\n",
       "      <th>4</th>\n",
       "      <td>Hatchback</td>\n",
       "      <td>5.0</td>\n",
       "      <td>50000</td>\n",
       "      <td>2015</td>\n",
       "      <td>Petrol</td>\n",
       "      <td>1</td>\n",
       "      <td>Manual</td>\n",
       "      <td>550000</td>\n",
       "      <td>Third Party insurance</td>\n",
       "      <td>1199.0</td>\n",
       "      <td>Honda</td>\n",
       "      <td>5</td>\n",
       "      <td>18.70</td>\n",
       "      <td>FWD</td>\n",
       "      <td>chennai</td>\n",
       "    </tr>\n",
       "  </tbody>\n",
       "</table>\n",
       "</div>"
      ],
      "text/plain": [
       "    bodytype  seats    kms  modelYear fueltype  ownerNo transmission    price  \\\n",
       "0        SUV    5.0  20000       2022   Petrol        1    Automatic  1150000   \n",
       "1   Minivans    7.0  20687       2015   Petrol        1       Manual   415000   \n",
       "2        SUV    5.0  30000       2021   Petrol        1       Manual   750000   \n",
       "3  Hatchback    5.0  59247       2015   Petrol        1       Manual   398000   \n",
       "4  Hatchback    5.0  50000       2015   Petrol        1       Manual   550000   \n",
       "\n",
       "               Insurance  engine_cc      oem  Gearbox  Mileage DriveType  \\\n",
       "0  Third Party insurance      998.0      Kia        7    18.90       FWD   \n",
       "1          Comprehensive     1196.0   Maruti        5    15.37       RWD   \n",
       "2  Third Party insurance      999.0   Nissan        5    20.00       FWD   \n",
       "3          Comprehensive     1086.0  Hyundai        5    19.81       FWD   \n",
       "4  Third Party insurance     1199.0    Honda        5    18.70       FWD   \n",
       "\n",
       "      city  \n",
       "0  chennai  \n",
       "1  chennai  \n",
       "2  chennai  \n",
       "3  chennai  \n",
       "4  chennai  "
      ]
     },
     "execution_count": 6,
     "metadata": {},
     "output_type": "execute_result"
    }
   ],
   "source": [
    "new_car.head()"
   ]
  },
  {
   "cell_type": "code",
   "execution_count": 7,
   "metadata": {},
   "outputs": [
    {
     "data": {
      "text/plain": [
       "bodytype        0\n",
       "seats           0\n",
       "kms             0\n",
       "modelYear       0\n",
       "fueltype        0\n",
       "ownerNo         0\n",
       "transmission    0\n",
       "price           0\n",
       "Insurance       0\n",
       "engine_cc       0\n",
       "oem             0\n",
       "Gearbox         0\n",
       "Mileage         0\n",
       "DriveType       0\n",
       "city            0\n",
       "dtype: int64"
      ]
     },
     "execution_count": 7,
     "metadata": {},
     "output_type": "execute_result"
    }
   ],
   "source": [
    "new_car.isna().sum()"
   ]
  },
  {
   "cell_type": "markdown",
   "metadata": {},
   "source": [
    "#### Frequency of each category"
   ]
  },
  {
   "cell_type": "code",
   "execution_count": 8,
   "metadata": {},
   "outputs": [
    {
     "data": {
      "text/plain": [
       "ownerNo\n",
       "1    6197\n",
       "2    2098\n",
       "3     343\n",
       "4      47\n",
       "0      31\n",
       "5      16\n",
       "Name: count, dtype: int64"
      ]
     },
     "execution_count": 8,
     "metadata": {},
     "output_type": "execute_result"
    }
   ],
   "source": [
    "new_car['ownerNo'].value_counts()\n"
   ]
  },
  {
   "cell_type": "code",
   "execution_count": 9,
   "metadata": {},
   "outputs": [
    {
     "data": {
      "text/plain": [
       "transmission\n",
       "Manual       6230\n",
       "Automatic    2502\n",
       "Name: count, dtype: int64"
      ]
     },
     "execution_count": 9,
     "metadata": {},
     "output_type": "execute_result"
    }
   ],
   "source": [
    "new_car['transmission'].value_counts()\n"
   ]
  },
  {
   "cell_type": "code",
   "execution_count": 10,
   "metadata": {},
   "outputs": [
    {
     "data": {
      "text/plain": [
       "bodytype\n",
       "Hatchback        3770\n",
       "SUV              2286\n",
       "Sedan            2256\n",
       "MUV               374\n",
       "Minivans           23\n",
       "Coupe               9\n",
       "Pickup Trucks       6\n",
       "Convertibles        6\n",
       "Hybrids             1\n",
       "Wagon               1\n",
       "Name: count, dtype: int64"
      ]
     },
     "execution_count": 10,
     "metadata": {},
     "output_type": "execute_result"
    }
   ],
   "source": [
    "new_car['bodytype'].value_counts()"
   ]
  },
  {
   "cell_type": "code",
   "execution_count": 11,
   "metadata": {},
   "outputs": [
    {
     "data": {
      "text/plain": [
       "fueltype\n",
       "Petrol      5845\n",
       "Diesel      2747\n",
       "Cng           97\n",
       "Electric      27\n",
       "Lpg           16\n",
       "Name: count, dtype: int64"
      ]
     },
     "execution_count": 11,
     "metadata": {},
     "output_type": "execute_result"
    }
   ],
   "source": [
    "new_car['fueltype'].value_counts()"
   ]
  },
  {
   "cell_type": "code",
   "execution_count": 12,
   "metadata": {},
   "outputs": [
    {
     "data": {
      "text/plain": [
       "fueltype\n",
       "Petrol      5845\n",
       "Diesel      2747\n",
       "Cng           97\n",
       "Electric      27\n",
       "Lpg           16\n",
       "Name: count, dtype: int64"
      ]
     },
     "execution_count": 12,
     "metadata": {},
     "output_type": "execute_result"
    }
   ],
   "source": [
    "new_car.fueltype.value_counts()"
   ]
  },
  {
   "cell_type": "code",
   "execution_count": 13,
   "metadata": {},
   "outputs": [
    {
     "data": {
      "text/plain": [
       "DriveType\n",
       "FWD    7510\n",
       "RWD     648\n",
       "AWD     292\n",
       "4WD     282\n",
       "Name: count, dtype: int64"
      ]
     },
     "execution_count": 13,
     "metadata": {},
     "output_type": "execute_result"
    }
   ],
   "source": [
    "new_car['DriveType'].value_counts()"
   ]
  },
  {
   "cell_type": "code",
   "execution_count": 14,
   "metadata": {},
   "outputs": [
    {
     "data": {
      "text/plain": [
       "array(['SUV', 'Minivans', 'Hatchback', 'Sedan', 'MUV', 'Hybrids', 'Coupe',\n",
       "       'Pickup Trucks', 'Convertibles', 'Wagon'], dtype=object)"
      ]
     },
     "execution_count": 14,
     "metadata": {},
     "output_type": "execute_result"
    }
   ],
   "source": [
    "new_car['bodytype'].unique()"
   ]
  },
  {
   "cell_type": "code",
   "execution_count": 15,
   "metadata": {},
   "outputs": [
    {
     "data": {
      "text/plain": [
       "oem\n",
       "Maruti              2333\n",
       "Hyundai             1749\n",
       "Honda                890\n",
       "Tata                 464\n",
       "Mahindra             377\n",
       "Toyota               344\n",
       "Ford                 332\n",
       "Renault              320\n",
       "Volkswagen           314\n",
       "Mercedes-Benz        260\n",
       "BMW                  187\n",
       "Audi                 163\n",
       "Skoda                161\n",
       "Kia                  144\n",
       "Jeep                 118\n",
       "MG                   101\n",
       "Datsun                92\n",
       "Nissan                86\n",
       "Chevrolet             71\n",
       "Volvo                 50\n",
       "Land Rover            45\n",
       "Jaguar                39\n",
       "Fiat                  35\n",
       "Mini                  12\n",
       "Mitsubishi            11\n",
       "Citroen                7\n",
       "Ssangyong              5\n",
       "Lexus                  5\n",
       "Hindustan Motors       5\n",
       "Porsche                5\n",
       "Isuzu                  4\n",
       "Opel                   3\n",
       "Name: count, dtype: int64"
      ]
     },
     "execution_count": 15,
     "metadata": {},
     "output_type": "execute_result"
    }
   ],
   "source": [
    "new_car['oem'].value_counts()"
   ]
  },
  {
   "cell_type": "code",
   "execution_count": 16,
   "metadata": {},
   "outputs": [
    {
     "data": {
      "text/plain": [
       "array([ 998., 1196.,  999., 1086., 1199., 2143., 1995., 1497., 1197.,\n",
       "       1956., 2755., 1198., 1248.,    0., 1582., 1984., 2694., 1498.,\n",
       "       1298., 1461., 1798., 1364., 1591., 1968., 2967., 2393., 2993.,\n",
       "       1368., 2198., 1373., 1598., 2179., 1462., 1451., 1194., 1991.,\n",
       "       1493., 1998., 4663., 2987.,  796., 1186., 1799., 1950., 1496.,\n",
       "       2925., 1396., 1353.,  799., 1405.,  814., 2494., 1399., 1997.,\n",
       "       1047., 2999., 1499., 2184., 1896., 1999., 1969., 1495., 1390.,\n",
       "       1120., 1482., 2523., 2354.,  624.,  793.,  936., 4134.,  993.,\n",
       "       2499., 2982., 1596., 1796., 1422., 1172., 1468., 1599., 1586.,\n",
       "       1193., 2199., 1330., 2696., 2400., 2477., 2998., 2997., 2995.,\n",
       "       1395., 2487., 1797., 1341., 1397., 3198., 1332., 2148., 1299.,\n",
       "       1061., 2497., 1590., 1781., 2953., 1595., 2496., 2362.,  970.,\n",
       "       1389., 1597., 2498.,  995.,   72., 1589., 3597., 5000., 2200.,\n",
       "       2996., 1108., 1996., 1985., 2157., 2112., 2446., 1794., 2359.,\n",
       "       2609., 2956., 2231., 1349., 3456., 2360., 3982., 2894., 3346.,\n",
       "       3498., 2979., 2835., 1150., 1343., 2981., 4395., 1817., 3993.,\n",
       "       1948., 4806., 2994., 1993., 1490., 2489.])"
      ]
     },
     "execution_count": 16,
     "metadata": {},
     "output_type": "execute_result"
    }
   ],
   "source": [
    "new_car['engine_cc'].unique()"
   ]
  },
  {
   "cell_type": "code",
   "execution_count": 17,
   "metadata": {},
   "outputs": [
    {
     "data": {
      "text/plain": [
       "np.float64(140.0)"
      ]
     },
     "execution_count": 17,
     "metadata": {},
     "output_type": "execute_result"
    }
   ],
   "source": [
    "new_car.Mileage.max()"
   ]
  },
  {
   "cell_type": "code",
   "execution_count": 18,
   "metadata": {},
   "outputs": [
    {
     "data": {
      "text/plain": [
       "modelYear\n",
       "2018    1092\n",
       "2017    1006\n",
       "2016     865\n",
       "2019     836\n",
       "2021     738\n",
       "2020     619\n",
       "2015     614\n",
       "2014     591\n",
       "2022     585\n",
       "2013     416\n",
       "2012     351\n",
       "2011     263\n",
       "2010     256\n",
       "2009     134\n",
       "2023      99\n",
       "2008      91\n",
       "2006      41\n",
       "2007      41\n",
       "2004      31\n",
       "2003      17\n",
       "2005      15\n",
       "2002      11\n",
       "2001      10\n",
       "1985       3\n",
       "1995       2\n",
       "1998       2\n",
       "1997       2\n",
       "2000       1\n",
       "Name: count, dtype: int64"
      ]
     },
     "execution_count": 18,
     "metadata": {},
     "output_type": "execute_result"
    }
   ],
   "source": [
    "new_car['modelYear'].value_counts()"
   ]
  },
  {
   "cell_type": "markdown",
   "metadata": {},
   "source": [
    "### Distribution"
   ]
  },
  {
   "cell_type": "code",
   "execution_count": 19,
   "metadata": {},
   "outputs": [
    {
     "data": {
      "text/plain": [
       "<Axes: xlabel='price', ylabel='Count'>"
      ]
     },
     "execution_count": 19,
     "metadata": {},
     "output_type": "execute_result"
    },
    {
     "data": {
      "image/png": "[encoded data removed]",
      "text/plain": [
       "<Figure size 640x480 with 1 Axes>"
      ]
     },
     "metadata": {},
     "output_type": "display_data"
    }
   ],
   "source": [
    "import seaborn as sns\n",
    "sns.histplot(new_car['price'], kde=True)\n"
   ]
  },
  {
   "cell_type": "code",
   "execution_count": 20,
   "metadata": {},
   "outputs": [
    {
     "data": {
      "text/plain": [
       "<Axes: ylabel='price'>"
      ]
     },
     "execution_count": 20,
     "metadata": {},
     "output_type": "execute_result"
    },
    {
     "data": {
      "image/png": "[encoded data removed]",
      "text/plain": [
       "<Figure size 640x480 with 1 Axes>"
      ]
     },
     "metadata": {},
     "output_type": "display_data"
    }
   ],
   "source": [
    "sns.boxplot(new_car['price'])\n"
   ]
  },
  {
   "cell_type": "code",
   "execution_count": 21,
   "metadata": {},
   "outputs": [
    {
     "data": {
      "text/plain": [
       "<Axes: xlabel='kms', ylabel='price'>"
      ]
     },
     "execution_count": 21,
     "metadata": {},
     "output_type": "execute_result"
    },
    {
     "data": {
      "image/png": "[encoded data removed]",
      "text/plain": [
       "<Figure size 640x480 with 1 Axes>"
      ]
     },
     "metadata": {},
     "output_type": "display_data"
    }
   ],
   "source": [
    "sns.scatterplot(x='kms', y='price', data=new_car)\n"
   ]
  },
  {
   "cell_type": "code",
   "execution_count": 22,
   "metadata": {},
   "outputs": [
    {
     "data": {
      "text/plain": [
       "<seaborn.axisgrid.PairGrid at 0x1308bf620>"
      ]
     },
     "execution_count": 22,
     "metadata": {},
     "output_type": "execute_result"
    },
    {
     "data": {
      "image/png": "[encoded data removed]",
      "text/plain": [
       "<Figure size 500x500 with 6 Axes>"
      ]
     },
     "metadata": {},
     "output_type": "display_data"
    }
   ],
   "source": [
    "sns.pairplot(new_car[['kms', 'modelYear']])\n",
    "\n"
   ]
  },
  {
   "cell_type": "code",
   "execution_count": 23,
   "metadata": {},
   "outputs": [
    {
     "data": {
      "text/plain": [
       "dtype('int64')"
      ]
     },
     "execution_count": 23,
     "metadata": {},
     "output_type": "execute_result"
    }
   ],
   "source": [
    "new_car['kms'].dtype"
   ]
  },
  {
   "cell_type": "code",
   "execution_count": 24,
   "metadata": {},
   "outputs": [
    {
     "data": {
      "text/plain": [
       "array([ 20000,  20687,  30000, ...,  53562,  32190, 151000], shape=(3670,))"
      ]
     },
     "execution_count": 24,
     "metadata": {},
     "output_type": "execute_result"
    }
   ],
   "source": [
    "new_car['kms'].unique()"
   ]
  },
  {
   "cell_type": "code",
   "execution_count": 25,
   "metadata": {},
   "outputs": [
    {
     "data": {
      "text/plain": [
       "<Axes: xlabel='ownerNo', ylabel='count'>"
      ]
     },
     "execution_count": 25,
     "metadata": {},
     "output_type": "execute_result"
    },
    {
     "data": {
      "image/png": "[encoded data removed]",
      "text/plain": [
       "<Figure size 640x480 with 1 Axes>"
      ]
     },
     "metadata": {},
     "output_type": "display_data"
    }
   ],
   "source": [
    "sns.countplot(x='ownerNo', data=new_car)\n"
   ]
  },
  {
   "cell_type": "code",
   "execution_count": 26,
   "metadata": {},
   "outputs": [
    {
     "data": {
      "text/plain": [
       "<Axes: xlabel='transmission', ylabel='price'>"
      ]
     },
     "execution_count": 26,
     "metadata": {},
     "output_type": "execute_result"
    },
    {
     "data": {
      "image/png": "[encoded data removed]",
      "text/plain": [
       "<Figure size 640x480 with 1 Axes>"
      ]
     },
     "metadata": {},
     "output_type": "display_data"
    }
   ],
   "source": [
    "sns.boxplot(x='transmission', y='price', data=new_car)\n"
   ]
  },
  {
   "cell_type": "code",
   "execution_count": 27,
   "metadata": {},
   "outputs": [
    {
     "data": {
      "text/plain": [
       "<Axes: xlabel='ownerNo', ylabel='transmission'>"
      ]
     },
     "execution_count": 27,
     "metadata": {},
     "output_type": "execute_result"
    },
    {
     "data": {
      "image/png": "[encoded data removed]",
      "text/plain": [
       "<Figure size 640x480 with 2 Axes>"
      ]
     },
     "metadata": {},
     "output_type": "display_data"
    }
   ],
   "source": [
    "pivot = new_car.pivot_table(index='transmission', columns='ownerNo', values='price', aggfunc='mean')\n",
    "sns.heatmap(pivot, annot=True, cmap='viridis')\n"
   ]
  },
  {
   "cell_type": "code",
   "execution_count": 28,
   "metadata": {},
   "outputs": [
    {
     "data": {
      "text/plain": [
       "<Axes: xlabel='ownerNo', ylabel='count'>"
      ]
     },
     "execution_count": 28,
     "metadata": {},
     "output_type": "execute_result"
    },
    {
     "data": {
      "image/png": "[encoded data removed]",
      "text/plain": [
       "<Figure size 640x480 with 1 Axes>"
      ]
     },
     "metadata": {},
     "output_type": "display_data"
    }
   ],
   "source": [
    "sns.countplot(x='ownerNo', data=new_car)\n"
   ]
  },
  {
   "cell_type": "code",
   "execution_count": 29,
   "metadata": {},
   "outputs": [
    {
     "data": {
      "text/plain": [
       "<Axes: xlabel='city', ylabel='count'>"
      ]
     },
     "execution_count": 29,
     "metadata": {},
     "output_type": "execute_result"
    },
    {
     "data": {
      "image/png": "[encoded data removed]",
      "text/plain": [
       "<Figure size 640x480 with 1 Axes>"
      ]
     },
     "metadata": {},
     "output_type": "display_data"
    }
   ],
   "source": [
    "sns.countplot(x='city', data=new_car)\n"
   ]
  },
  {
   "cell_type": "code",
   "execution_count": 30,
   "metadata": {},
   "outputs": [
    {
     "data": {
      "text/plain": [
       "<seaborn.axisgrid.FacetGrid at 0x1308be660>"
      ]
     },
     "execution_count": 30,
     "metadata": {},
     "output_type": "execute_result"
    },
    {
     "data": {
      "image/png": "[encoded data removed]",
      "text/plain": [
       "<Figure size 500x500 with 1 Axes>"
      ]
     },
     "metadata": {},
     "output_type": "display_data"
    }
   ],
   "source": [
    "import seaborn as sns\n",
    "sns.displot(new_car['price'])\n"
   ]
  },
  {
   "cell_type": "code",
   "execution_count": 31,
   "metadata": {},
   "outputs": [
    {
     "name": "stdout",
     "output_type": "stream",
     "text": [
      "Highest allowed 5203914.587068693\n",
      "Lowest allowed -3265710.1546362606\n"
     ]
    }
   ],
   "source": [
    "#Finding the Boundary Values\n",
    "print(\"Highest allowed\",new_car['price'].mean() + 3*new_car['price'].std())\n",
    "print(\"Lowest allowed\",new_car['price'].mean() - 3*new_car['price'].std())"
   ]
  },
  {
   "cell_type": "code",
   "execution_count": 32,
   "metadata": {},
   "outputs": [
    {
     "data": {
      "text/plain": [
       "np.float64(1411604.1236174924)"
      ]
     },
     "execution_count": 32,
     "metadata": {},
     "output_type": "execute_result"
    }
   ],
   "source": [
    "new_car['price'].std()"
   ]
  },
  {
   "cell_type": "code",
   "execution_count": 33,
   "metadata": {},
   "outputs": [
    {
     "data": {
      "text/plain": [
       "Index(['bodytype', 'fueltype', 'transmission', 'Insurance', 'oem', 'DriveType',\n",
       "       'city'],\n",
       "      dtype='object')"
      ]
     },
     "execution_count": 33,
     "metadata": {},
     "output_type": "execute_result"
    }
   ],
   "source": [
    "categorical_cols=new_car.select_dtypes(['object']).columns\n",
    "categorical_cols"
   ]
  },
  {
   "cell_type": "code",
   "execution_count": 34,
   "metadata": {},
   "outputs": [],
   "source": [
    "numerical_cols = new_car.select_dtypes(['number']).columns\n",
    "numerical_cols1=numerical_cols.drop('price')"
   ]
  },
  {
   "cell_type": "code",
   "execution_count": 35,
   "metadata": {},
   "outputs": [
    {
     "data": {
      "text/plain": [
       "Index(['seats', 'kms', 'modelYear', 'ownerNo', 'engine_cc', 'Gearbox',\n",
       "       'Mileage'],\n",
       "      dtype='object')"
      ]
     },
     "execution_count": 35,
     "metadata": {},
     "output_type": "execute_result"
    }
   ],
   "source": [
    "numerical_cols1"
   ]
  },
  {
   "cell_type": "code",
   "execution_count": 36,
   "metadata": {},
   "outputs": [
    {
     "data": {
      "text/plain": [
       "14"
      ]
     },
     "execution_count": 36,
     "metadata": {},
     "output_type": "execute_result"
    }
   ],
   "source": [
    "total_cols = len(categorical_cols) + len(numerical_cols1)\n",
    "total_cols"
   ]
  },
  {
   "cell_type": "code",
   "execution_count": 37,
   "metadata": {},
   "outputs": [
    {
     "name": "stdout",
     "output_type": "stream",
     "text": [
      "<class 'pandas.core.frame.DataFrame'>\n",
      "RangeIndex: 8732 entries, 0 to 8731\n",
      "Data columns (total 15 columns):\n",
      " #   Column        Non-Null Count  Dtype  \n",
      "---  ------        --------------  -----  \n",
      " 0   bodytype      8732 non-null   object \n",
      " 1   seats         8732 non-null   float64\n",
      " 2   kms           8732 non-null   int64  \n",
      " 3   modelYear     8732 non-null   int64  \n",
      " 4   fueltype      8732 non-null   object \n",
      " 5   ownerNo       8732 non-null   int64  \n",
      " 6   transmission  8732 non-null   object \n",
      " 7   price         8732 non-null   int64  \n",
      " 8   Insurance     8732 non-null   object \n",
      " 9   engine_cc     8732 non-null   float64\n",
      " 10  oem           8732 non-null   object \n",
      " 11  Gearbox       8732 non-null   int64  \n",
      " 12  Mileage       8732 non-null   float64\n",
      " 13  DriveType     8732 non-null   object \n",
      " 14  city          8732 non-null   object \n",
      "dtypes: float64(3), int64(5), object(7)\n",
      "memory usage: 1023.4+ KB\n"
     ]
    }
   ],
   "source": [
    "new_car.info()"
   ]
  },
  {
   "cell_type": "code",
   "execution_count": 38,
   "metadata": {},
   "outputs": [
    {
     "data": {
      "text/html": [
       "<div>\n",
       "<style scoped>\n",
       "    .dataframe tbody tr th:only-of-type {\n",
       "        vertical-align: middle;\n",
       "    }\n",
       "\n",
       "    .dataframe tbody tr th {\n",
       "        vertical-align: top;\n",
       "    }\n",
       "\n",
       "    .dataframe thead th {\n",
       "        text-align: right;\n",
       "    }\n",
       "</style>\n",
       "<table border=\"1\" class=\"dataframe\">\n",
       "  <thead>\n",
       "    <tr style=\"text-align: right;\">\n",
       "      <th></th>\n",
       "      <th>bodytype</th>\n",
       "      <th>seats</th>\n",
       "      <th>kms</th>\n",
       "      <th>modelYear</th>\n",
       "      <th>fueltype</th>\n",
       "      <th>ownerNo</th>\n",
       "      <th>transmission</th>\n",
       "      <th>price</th>\n",
       "      <th>Insurance</th>\n",
       "      <th>engine_cc</th>\n",
       "      <th>oem</th>\n",
       "      <th>Gearbox</th>\n",
       "      <th>Mileage</th>\n",
       "      <th>DriveType</th>\n",
       "      <th>city</th>\n",
       "    </tr>\n",
       "  </thead>\n",
       "  <tbody>\n",
       "    <tr>\n",
       "      <th>0</th>\n",
       "      <td>SUV</td>\n",
       "      <td>5.0</td>\n",
       "      <td>20000</td>\n",
       "      <td>2022</td>\n",
       "      <td>Petrol</td>\n",
       "      <td>1</td>\n",
       "      <td>Automatic</td>\n",
       "      <td>1150000</td>\n",
       "      <td>Third Party insurance</td>\n",
       "      <td>998.0</td>\n",
       "      <td>Kia</td>\n",
       "      <td>7</td>\n",
       "      <td>18.90</td>\n",
       "      <td>FWD</td>\n",
       "      <td>chennai</td>\n",
       "    </tr>\n",
       "    <tr>\n",
       "      <th>1</th>\n",
       "      <td>Minivans</td>\n",
       "      <td>7.0</td>\n",
       "      <td>20687</td>\n",
       "      <td>2015</td>\n",
       "      <td>Petrol</td>\n",
       "      <td>1</td>\n",
       "      <td>Manual</td>\n",
       "      <td>415000</td>\n",
       "      <td>Comprehensive</td>\n",
       "      <td>1196.0</td>\n",
       "      <td>Maruti</td>\n",
       "      <td>5</td>\n",
       "      <td>15.37</td>\n",
       "      <td>RWD</td>\n",
       "      <td>chennai</td>\n",
       "    </tr>\n",
       "    <tr>\n",
       "      <th>2</th>\n",
       "      <td>SUV</td>\n",
       "      <td>5.0</td>\n",
       "      <td>30000</td>\n",
       "      <td>2021</td>\n",
       "      <td>Petrol</td>\n",
       "      <td>1</td>\n",
       "      <td>Manual</td>\n",
       "      <td>750000</td>\n",
       "      <td>Third Party insurance</td>\n",
       "      <td>999.0</td>\n",
       "      <td>Nissan</td>\n",
       "      <td>5</td>\n",
       "      <td>20.00</td>\n",
       "      <td>FWD</td>\n",
       "      <td>chennai</td>\n",
       "    </tr>\n",
       "    <tr>\n",
       "      <th>3</th>\n",
       "      <td>Hatchback</td>\n",
       "      <td>5.0</td>\n",
       "      <td>59247</td>\n",
       "      <td>2015</td>\n",
       "      <td>Petrol</td>\n",
       "      <td>1</td>\n",
       "      <td>Manual</td>\n",
       "      <td>398000</td>\n",
       "      <td>Comprehensive</td>\n",
       "      <td>1086.0</td>\n",
       "      <td>Hyundai</td>\n",
       "      <td>5</td>\n",
       "      <td>19.81</td>\n",
       "      <td>FWD</td>\n",
       "      <td>chennai</td>\n",
       "    </tr>\n",
       "    <tr>\n",
       "      <th>4</th>\n",
       "      <td>Hatchback</td>\n",
       "      <td>5.0</td>\n",
       "      <td>50000</td>\n",
       "      <td>2015</td>\n",
       "      <td>Petrol</td>\n",
       "      <td>1</td>\n",
       "      <td>Manual</td>\n",
       "      <td>550000</td>\n",
       "      <td>Third Party insurance</td>\n",
       "      <td>1199.0</td>\n",
       "      <td>Honda</td>\n",
       "      <td>5</td>\n",
       "      <td>18.70</td>\n",
       "      <td>FWD</td>\n",
       "      <td>chennai</td>\n",
       "    </tr>\n",
       "    <tr>\n",
       "      <th>...</th>\n",
       "      <td>...</td>\n",
       "      <td>...</td>\n",
       "      <td>...</td>\n",
       "      <td>...</td>\n",
       "      <td>...</td>\n",
       "      <td>...</td>\n",
       "      <td>...</td>\n",
       "      <td>...</td>\n",
       "      <td>...</td>\n",
       "      <td>...</td>\n",
       "      <td>...</td>\n",
       "      <td>...</td>\n",
       "      <td>...</td>\n",
       "      <td>...</td>\n",
       "      <td>...</td>\n",
       "    </tr>\n",
       "    <tr>\n",
       "      <th>8727</th>\n",
       "      <td>Hatchback</td>\n",
       "      <td>5.0</td>\n",
       "      <td>10000</td>\n",
       "      <td>2022</td>\n",
       "      <td>Petrol</td>\n",
       "      <td>1</td>\n",
       "      <td>Manual</td>\n",
       "      <td>509999</td>\n",
       "      <td>Third Party insurance</td>\n",
       "      <td>998.0</td>\n",
       "      <td>Maruti</td>\n",
       "      <td>5</td>\n",
       "      <td>25.24</td>\n",
       "      <td>FWD</td>\n",
       "      <td>kolkata</td>\n",
       "    </tr>\n",
       "    <tr>\n",
       "      <th>8728</th>\n",
       "      <td>Hatchback</td>\n",
       "      <td>5.0</td>\n",
       "      <td>120000</td>\n",
       "      <td>2014</td>\n",
       "      <td>Petrol</td>\n",
       "      <td>1</td>\n",
       "      <td>Manual</td>\n",
       "      <td>180000</td>\n",
       "      <td>Third Party insurance</td>\n",
       "      <td>796.0</td>\n",
       "      <td>Maruti</td>\n",
       "      <td>5</td>\n",
       "      <td>22.74</td>\n",
       "      <td>FWD</td>\n",
       "      <td>kolkata</td>\n",
       "    </tr>\n",
       "    <tr>\n",
       "      <th>8729</th>\n",
       "      <td>Sedan</td>\n",
       "      <td>5.0</td>\n",
       "      <td>50000</td>\n",
       "      <td>2011</td>\n",
       "      <td>Petrol</td>\n",
       "      <td>3</td>\n",
       "      <td>Automatic</td>\n",
       "      <td>550000</td>\n",
       "      <td>Third Party insurance</td>\n",
       "      <td>1796.0</td>\n",
       "      <td>Mercedes-Benz</td>\n",
       "      <td>7</td>\n",
       "      <td>11.74</td>\n",
       "      <td>RWD</td>\n",
       "      <td>kolkata</td>\n",
       "    </tr>\n",
       "    <tr>\n",
       "      <th>8730</th>\n",
       "      <td>Hatchback</td>\n",
       "      <td>5.0</td>\n",
       "      <td>40000</td>\n",
       "      <td>2012</td>\n",
       "      <td>Petrol</td>\n",
       "      <td>1</td>\n",
       "      <td>Manual</td>\n",
       "      <td>140000</td>\n",
       "      <td>Third Party insurance</td>\n",
       "      <td>1197.0</td>\n",
       "      <td>Maruti</td>\n",
       "      <td>5</td>\n",
       "      <td>18.50</td>\n",
       "      <td>FWD</td>\n",
       "      <td>kolkata</td>\n",
       "    </tr>\n",
       "    <tr>\n",
       "      <th>8731</th>\n",
       "      <td>SUV</td>\n",
       "      <td>5.0</td>\n",
       "      <td>120000</td>\n",
       "      <td>2017</td>\n",
       "      <td>Diesel</td>\n",
       "      <td>2</td>\n",
       "      <td>Manual</td>\n",
       "      <td>500000</td>\n",
       "      <td>Third Party insurance</td>\n",
       "      <td>1461.0</td>\n",
       "      <td>Renault</td>\n",
       "      <td>6</td>\n",
       "      <td>19.72</td>\n",
       "      <td>AWD</td>\n",
       "      <td>kolkata</td>\n",
       "    </tr>\n",
       "  </tbody>\n",
       "</table>\n",
       "<p>8732 rows × 15 columns</p>\n",
       "</div>"
      ],
      "text/plain": [
       "       bodytype  seats     kms  modelYear fueltype  ownerNo transmission  \\\n",
       "0           SUV    5.0   20000       2022   Petrol        1    Automatic   \n",
       "1      Minivans    7.0   20687       2015   Petrol        1       Manual   \n",
       "2           SUV    5.0   30000       2021   Petrol        1       Manual   \n",
       "3     Hatchback    5.0   59247       2015   Petrol        1       Manual   \n",
       "4     Hatchback    5.0   50000       2015   Petrol        1       Manual   \n",
       "...         ...    ...     ...        ...      ...      ...          ...   \n",
       "8727  Hatchback    5.0   10000       2022   Petrol        1       Manual   \n",
       "8728  Hatchback    5.0  120000       2014   Petrol        1       Manual   \n",
       "8729      Sedan    5.0   50000       2011   Petrol        3    Automatic   \n",
       "8730  Hatchback    5.0   40000       2012   Petrol        1       Manual   \n",
       "8731        SUV    5.0  120000       2017   Diesel        2       Manual   \n",
       "\n",
       "        price              Insurance  engine_cc            oem  Gearbox  \\\n",
       "0     1150000  Third Party insurance      998.0            Kia        7   \n",
       "1      415000          Comprehensive     1196.0         Maruti        5   \n",
       "2      750000  Third Party insurance      999.0         Nissan        5   \n",
       "3      398000          Comprehensive     1086.0        Hyundai        5   \n",
       "4      550000  Third Party insurance     1199.0          Honda        5   \n",
       "...       ...                    ...        ...            ...      ...   \n",
       "8727   509999  Third Party insurance      998.0         Maruti        5   \n",
       "8728   180000  Third Party insurance      796.0         Maruti        5   \n",
       "8729   550000  Third Party insurance     1796.0  Mercedes-Benz        7   \n",
       "8730   140000  Third Party insurance     1197.0         Maruti        5   \n",
       "8731   500000  Third Party insurance     1461.0        Renault        6   \n",
       "\n",
       "      Mileage DriveType     city  \n",
       "0       18.90       FWD  chennai  \n",
       "1       15.37       RWD  chennai  \n",
       "2       20.00       FWD  chennai  \n",
       "3       19.81       FWD  chennai  \n",
       "4       18.70       FWD  chennai  \n",
       "...       ...       ...      ...  \n",
       "8727    25.24       FWD  kolkata  \n",
       "8728    22.74       FWD  kolkata  \n",
       "8729    11.74       RWD  kolkata  \n",
       "8730    18.50       FWD  kolkata  \n",
       "8731    19.72       AWD  kolkata  \n",
       "\n",
       "[8732 rows x 15 columns]"
      ]
     },
     "execution_count": 38,
     "metadata": {},
     "output_type": "execute_result"
    }
   ],
   "source": [
    "new_car"
   ]
  },
  {
   "cell_type": "markdown",
   "metadata": {},
   "source": [
    "### Outlier removal"
   ]
  },
  {
   "cell_type": "code",
   "execution_count": 39,
   "metadata": {},
   "outputs": [
    {
     "data": {
      "text/plain": [
       "(8599, 15)"
      ]
     },
     "execution_count": 39,
     "metadata": {},
     "output_type": "execute_result"
    }
   ],
   "source": [
    "# Ensure all relevant columns are numerical\n",
    "numerical_cols_o = new_car.select_dtypes(include=['number']).columns\n",
    "\n",
    "# Calculate Q1 and Q3 for numerical columns\n",
    "Q1 = new_car[numerical_cols_o].quantile(0.05)\n",
    "Q3 = new_car[numerical_cols_o].quantile(0.95)\n",
    "\n",
    "# Calculate IQR for numerical columns\n",
    "IQR = Q3 - Q1\n",
    "\n",
    "# Remove outliers from numerical columns\n",
    "car_df = new_car[~((new_car[numerical_cols_o] < (Q1 - 1.5 * IQR)) |(new_car[numerical_cols_o] > (Q3 + 1.5 * IQR))).any(axis=1)]\n",
    "\n",
    "car_df.shape"
   ]
  },
  {
   "cell_type": "markdown",
   "metadata": {},
   "source": [
    "### LABEL ENCODING "
   ]
  },
  {
   "cell_type": "code",
   "execution_count": 40,
   "metadata": {},
   "outputs": [
    {
     "data": {
      "text/html": [
       "<div>\n",
       "<style scoped>\n",
       "    .dataframe tbody tr th:only-of-type {\n",
       "        vertical-align: middle;\n",
       "    }\n",
       "\n",
       "    .dataframe tbody tr th {\n",
       "        vertical-align: top;\n",
       "    }\n",
       "\n",
       "    .dataframe thead th {\n",
       "        text-align: right;\n",
       "    }\n",
       "</style>\n",
       "<table border=\"1\" class=\"dataframe\">\n",
       "  <thead>\n",
       "    <tr style=\"text-align: right;\">\n",
       "      <th></th>\n",
       "      <th>bodytype</th>\n",
       "      <th>seats</th>\n",
       "      <th>kms</th>\n",
       "      <th>modelYear</th>\n",
       "      <th>fueltype</th>\n",
       "      <th>ownerNo</th>\n",
       "      <th>transmission</th>\n",
       "      <th>price</th>\n",
       "      <th>Insurance</th>\n",
       "      <th>engine_cc</th>\n",
       "      <th>oem</th>\n",
       "      <th>Gearbox</th>\n",
       "      <th>Mileage</th>\n",
       "      <th>DriveType</th>\n",
       "      <th>city</th>\n",
       "    </tr>\n",
       "  </thead>\n",
       "  <tbody>\n",
       "    <tr>\n",
       "      <th>0</th>\n",
       "      <td>SUV</td>\n",
       "      <td>5.0</td>\n",
       "      <td>20000</td>\n",
       "      <td>2022</td>\n",
       "      <td>Petrol</td>\n",
       "      <td>1</td>\n",
       "      <td>Automatic</td>\n",
       "      <td>1150000</td>\n",
       "      <td>Third Party insurance</td>\n",
       "      <td>998.0</td>\n",
       "      <td>Kia</td>\n",
       "      <td>7</td>\n",
       "      <td>18.90</td>\n",
       "      <td>FWD</td>\n",
       "      <td>chennai</td>\n",
       "    </tr>\n",
       "    <tr>\n",
       "      <th>1</th>\n",
       "      <td>Minivans</td>\n",
       "      <td>7.0</td>\n",
       "      <td>20687</td>\n",
       "      <td>2015</td>\n",
       "      <td>Petrol</td>\n",
       "      <td>1</td>\n",
       "      <td>Manual</td>\n",
       "      <td>415000</td>\n",
       "      <td>Comprehensive</td>\n",
       "      <td>1196.0</td>\n",
       "      <td>Maruti</td>\n",
       "      <td>5</td>\n",
       "      <td>15.37</td>\n",
       "      <td>RWD</td>\n",
       "      <td>chennai</td>\n",
       "    </tr>\n",
       "    <tr>\n",
       "      <th>2</th>\n",
       "      <td>SUV</td>\n",
       "      <td>5.0</td>\n",
       "      <td>30000</td>\n",
       "      <td>2021</td>\n",
       "      <td>Petrol</td>\n",
       "      <td>1</td>\n",
       "      <td>Manual</td>\n",
       "      <td>750000</td>\n",
       "      <td>Third Party insurance</td>\n",
       "      <td>999.0</td>\n",
       "      <td>Nissan</td>\n",
       "      <td>5</td>\n",
       "      <td>20.00</td>\n",
       "      <td>FWD</td>\n",
       "      <td>chennai</td>\n",
       "    </tr>\n",
       "    <tr>\n",
       "      <th>3</th>\n",
       "      <td>Hatchback</td>\n",
       "      <td>5.0</td>\n",
       "      <td>59247</td>\n",
       "      <td>2015</td>\n",
       "      <td>Petrol</td>\n",
       "      <td>1</td>\n",
       "      <td>Manual</td>\n",
       "      <td>398000</td>\n",
       "      <td>Comprehensive</td>\n",
       "      <td>1086.0</td>\n",
       "      <td>Hyundai</td>\n",
       "      <td>5</td>\n",
       "      <td>19.81</td>\n",
       "      <td>FWD</td>\n",
       "      <td>chennai</td>\n",
       "    </tr>\n",
       "    <tr>\n",
       "      <th>4</th>\n",
       "      <td>Hatchback</td>\n",
       "      <td>5.0</td>\n",
       "      <td>50000</td>\n",
       "      <td>2015</td>\n",
       "      <td>Petrol</td>\n",
       "      <td>1</td>\n",
       "      <td>Manual</td>\n",
       "      <td>550000</td>\n",
       "      <td>Third Party insurance</td>\n",
       "      <td>1199.0</td>\n",
       "      <td>Honda</td>\n",
       "      <td>5</td>\n",
       "      <td>18.70</td>\n",
       "      <td>FWD</td>\n",
       "      <td>chennai</td>\n",
       "    </tr>\n",
       "  </tbody>\n",
       "</table>\n",
       "</div>"
      ],
      "text/plain": [
       "    bodytype  seats    kms  modelYear fueltype  ownerNo transmission    price  \\\n",
       "0        SUV    5.0  20000       2022   Petrol        1    Automatic  1150000   \n",
       "1   Minivans    7.0  20687       2015   Petrol        1       Manual   415000   \n",
       "2        SUV    5.0  30000       2021   Petrol        1       Manual   750000   \n",
       "3  Hatchback    5.0  59247       2015   Petrol        1       Manual   398000   \n",
       "4  Hatchback    5.0  50000       2015   Petrol        1       Manual   550000   \n",
       "\n",
       "               Insurance  engine_cc      oem  Gearbox  Mileage DriveType  \\\n",
       "0  Third Party insurance      998.0      Kia        7    18.90       FWD   \n",
       "1          Comprehensive     1196.0   Maruti        5    15.37       RWD   \n",
       "2  Third Party insurance      999.0   Nissan        5    20.00       FWD   \n",
       "3          Comprehensive     1086.0  Hyundai        5    19.81       FWD   \n",
       "4  Third Party insurance     1199.0    Honda        5    18.70       FWD   \n",
       "\n",
       "      city  \n",
       "0  chennai  \n",
       "1  chennai  \n",
       "2  chennai  \n",
       "3  chennai  \n",
       "4  chennai  "
      ]
     },
     "execution_count": 40,
     "metadata": {},
     "output_type": "execute_result"
    }
   ],
   "source": [
    "car_df.head()"
   ]
  },
  {
   "cell_type": "markdown",
   "metadata": {},
   "source": [
    "### LABEL ENCODING - OEM  (car_df)"
   ]
  },
  {
   "cell_type": "code",
   "execution_count": 41,
   "metadata": {},
   "outputs": [
    {
     "name": "stdout",
     "output_type": "stream",
     "text": [
      "0: Kia -> 13\n",
      "1: Maruti -> 18\n",
      "2: Nissan -> 22\n",
      "3: Hyundai -> 9\n",
      "4: Honda -> 8\n",
      "5: Mercedes-Benz -> 19\n",
      "8: BMW -> 1\n",
      "9: Ford -> 6\n",
      "15: Tata -> 28\n",
      "16: Jeep -> 12\n",
      "18: Toyota -> 29\n",
      "28: Audi -> 0\n",
      "41: Mahindra -> 17\n",
      "42: Renault -> 25\n",
      "51: Chevrolet -> 2\n",
      "59: Volkswagen -> 30\n",
      "62: Datsun -> 4\n",
      "69: Fiat -> 5\n",
      "95: Land Rover -> 14\n",
      "101: MG -> 16\n",
      "146: Skoda -> 26\n",
      "323: Isuzu -> 10\n",
      "340: Mini -> 20\n",
      "349: Volvo -> 31\n",
      "452: Jaguar -> 11\n",
      "484: Citroen -> 3\n",
      "760: Mitsubishi -> 21\n",
      "1164: Ssangyong -> 27\n",
      "1317: Lexus -> 15\n",
      "2119: Opel -> 23\n",
      "3988: Hindustan Motors -> 7\n",
      "4593: Porsche -> 24\n"
     ]
    },
    {
     "name": "stderr",
     "output_type": "stream",
     "text": [
      "/var/folders/9f/yq802r3j2fz3rrryxz38vzbh0000gn/T/ipykernel_2228/1922199170.py:4: SettingWithCopyWarning: \n",
      "A value is trying to be set on a copy of a slice from a DataFrame.\n",
      "Try using .loc[row_indexer,col_indexer] = value instead\n",
      "\n",
      "See the caveats in the documentation: https://pandas.pydata.org/pandas-docs/stable/user_guide/indexing.html#returning-a-view-versus-a-copy\n",
      "  car_df['oem_encoded1'] = le.fit_transform(car_df['oem'])\n"
     ]
    }
   ],
   "source": [
    "from sklearn.preprocessing import LabelEncoder\n",
    "le = LabelEncoder()\n",
    "# Fit and transform the categorical data\n",
    "car_df['oem_encoded1'] = le.fit_transform(car_df['oem'])\n",
    "# Display the encoded values using a for loop\n",
    "d_oem={}\n",
    "for  idx, (category, encoded) in enumerate(zip(car_df['oem'], car_df['oem_encoded1'])):\n",
    "    if(category in d_oem.keys()):\n",
    "        continue\n",
    "    d_oem[category]=encoded\n",
    "    print(f\"{idx}: {category} -> {encoded}\")\n",
    "\n"
   ]
  },
  {
   "cell_type": "markdown",
   "metadata": {},
   "source": [
    "### LABLE ENCODING - CITY "
   ]
  },
  {
   "cell_type": "code",
   "execution_count": 42,
   "metadata": {},
   "outputs": [
    {
     "name": "stdout",
     "output_type": "stream",
     "text": [
      "0: chennai -> 1\n",
      "1395: bengaluru -> 0\n",
      "2834: hyderabad -> 3\n",
      "4310: delhi -> 2\n",
      "5757: jaipur -> 4\n",
      "7232: kolkata -> 5\n"
     ]
    },
    {
     "name": "stderr",
     "output_type": "stream",
     "text": [
      "/var/folders/9f/yq802r3j2fz3rrryxz38vzbh0000gn/T/ipykernel_2228/3011919757.py:3: SettingWithCopyWarning: \n",
      "A value is trying to be set on a copy of a slice from a DataFrame.\n",
      "Try using .loc[row_indexer,col_indexer] = value instead\n",
      "\n",
      "See the caveats in the documentation: https://pandas.pydata.org/pandas-docs/stable/user_guide/indexing.html#returning-a-view-versus-a-copy\n",
      "  car_df['city_encoded1'] = le.fit_transform(car_df['city'])\n"
     ]
    }
   ],
   "source": [
    "le = LabelEncoder()\n",
    "# Fit and transform the categorical data\n",
    "car_df['city_encoded1'] = le.fit_transform(car_df['city'])\n",
    "# Display the encoded values using a for loop\n",
    "d_city={}\n",
    "for  idx, (category, encoded) in enumerate(zip(car_df['city'], car_df['city_encoded1'])):\n",
    "    if(category in d_city.keys()):\n",
    "        continue\n",
    "    d_city[category]=encoded\n",
    "    print(f\"{idx}: {category} -> {encoded}\")\n",
    "\n"
   ]
  },
  {
   "cell_type": "markdown",
   "metadata": {},
   "source": [
    "### LABLE ENCODING - BODYTYPE"
   ]
  },
  {
   "cell_type": "code",
   "execution_count": 43,
   "metadata": {},
   "outputs": [
    {
     "name": "stdout",
     "output_type": "stream",
     "text": [
      "0: SUV -> 6\n",
      "1: Minivans -> 4\n",
      "3: Hatchback -> 2\n",
      "5: Sedan -> 7\n",
      "33: MUV -> 3\n",
      "1227: Coupe -> 1\n",
      "2302: Pickup Trucks -> 5\n",
      "2653: Convertibles -> 0\n",
      "4841: Wagon -> 8\n"
     ]
    },
    {
     "name": "stderr",
     "output_type": "stream",
     "text": [
      "/var/folders/9f/yq802r3j2fz3rrryxz38vzbh0000gn/T/ipykernel_2228/4273968857.py:3: SettingWithCopyWarning: \n",
      "A value is trying to be set on a copy of a slice from a DataFrame.\n",
      "Try using .loc[row_indexer,col_indexer] = value instead\n",
      "\n",
      "See the caveats in the documentation: https://pandas.pydata.org/pandas-docs/stable/user_guide/indexing.html#returning-a-view-versus-a-copy\n",
      "  car_df['bodytype_encoded1'] = le.fit_transform(car_df['bodytype'])\n"
     ]
    }
   ],
   "source": [
    "le = LabelEncoder()\n",
    "# Fit and transform the categorical data\n",
    "car_df['bodytype_encoded1'] = le.fit_transform(car_df['bodytype'])\n",
    "# Display the encoded values using a for loop\n",
    "d_bodytype={}\n",
    "for  idx, (category, encoded) in enumerate(zip(car_df['bodytype'], car_df['bodytype_encoded1'])):\n",
    "    if(category in d_bodytype.keys()):\n",
    "        continue\n",
    "    d_bodytype[category]=encoded\n",
    "    print(f\"{idx}: {category} -> {encoded}\")\n",
    "\n"
   ]
  },
  {
   "cell_type": "markdown",
   "metadata": {},
   "source": [
    "### LABLE ENCODING - FUELTYPE"
   ]
  },
  {
   "cell_type": "code",
   "execution_count": 44,
   "metadata": {},
   "outputs": [
    {
     "name": "stdout",
     "output_type": "stream",
     "text": [
      "0: Petrol -> 4\n",
      "5: Diesel -> 1\n",
      "24: Electric -> 2\n",
      "177: Cng -> 0\n",
      "1421: Lpg -> 3\n"
     ]
    },
    {
     "name": "stderr",
     "output_type": "stream",
     "text": [
      "/var/folders/9f/yq802r3j2fz3rrryxz38vzbh0000gn/T/ipykernel_2228/3755064207.py:3: SettingWithCopyWarning: \n",
      "A value is trying to be set on a copy of a slice from a DataFrame.\n",
      "Try using .loc[row_indexer,col_indexer] = value instead\n",
      "\n",
      "See the caveats in the documentation: https://pandas.pydata.org/pandas-docs/stable/user_guide/indexing.html#returning-a-view-versus-a-copy\n",
      "  car_df['fueltype_encoded1'] = le.fit_transform(car_df['fueltype'])\n"
     ]
    }
   ],
   "source": [
    "le = LabelEncoder()\n",
    "# Fit and transform the categorical data\n",
    "car_df['fueltype_encoded1'] = le.fit_transform(car_df['fueltype'])\n",
    "# Display the encoded values using a for loop\n",
    "d_fueltype={}\n",
    "for  idx, (category, encoded) in enumerate(zip(car_df['fueltype'], car_df['fueltype_encoded1'])):\n",
    "    if(category in d_fueltype.keys()):\n",
    "        continue\n",
    "    d_fueltype[category]=encoded\n",
    "    print(f\"{idx}: {category} -> {encoded}\")\n",
    "\n"
   ]
  },
  {
   "cell_type": "markdown",
   "metadata": {},
   "source": [
    "### LABLE  ENCODING - TRANSMISSION "
   ]
  },
  {
   "cell_type": "code",
   "execution_count": 45,
   "metadata": {},
   "outputs": [
    {
     "name": "stdout",
     "output_type": "stream",
     "text": [
      "0: Automatic -> 0\n",
      "1: Manual -> 1\n"
     ]
    },
    {
     "name": "stderr",
     "output_type": "stream",
     "text": [
      "/var/folders/9f/yq802r3j2fz3rrryxz38vzbh0000gn/T/ipykernel_2228/3436804068.py:3: SettingWithCopyWarning: \n",
      "A value is trying to be set on a copy of a slice from a DataFrame.\n",
      "Try using .loc[row_indexer,col_indexer] = value instead\n",
      "\n",
      "See the caveats in the documentation: https://pandas.pydata.org/pandas-docs/stable/user_guide/indexing.html#returning-a-view-versus-a-copy\n",
      "  car_df['transmission_encoded1'] = le.fit_transform(car_df['transmission'])\n"
     ]
    }
   ],
   "source": [
    "le = LabelEncoder()\n",
    "# Fit and transform the categorical data\n",
    "car_df['transmission_encoded1'] = le.fit_transform(car_df['transmission'])\n",
    "# Display the encoded values using a for loop\n",
    "d_transmission={}\n",
    "for  idx, (category, encoded) in enumerate(zip(car_df['transmission'], car_df['transmission_encoded1'])):\n",
    "    if(category in d_transmission.keys()):\n",
    "        continue\n",
    "    d_transmission[category]=encoded\n",
    "    print(f\"{idx}: {category} -> {encoded}\")\n",
    "\n"
   ]
  },
  {
   "cell_type": "markdown",
   "metadata": {},
   "source": [
    "### LABLE ENCODING - DRIVETYPE"
   ]
  },
  {
   "cell_type": "code",
   "execution_count": 46,
   "metadata": {},
   "outputs": [
    {
     "name": "stdout",
     "output_type": "stream",
     "text": [
      "0: FWD -> 2\n",
      "1: RWD -> 3\n",
      "8: AWD -> 1\n",
      "16: 4WD -> 0\n"
     ]
    },
    {
     "name": "stderr",
     "output_type": "stream",
     "text": [
      "/var/folders/9f/yq802r3j2fz3rrryxz38vzbh0000gn/T/ipykernel_2228/3507353685.py:3: SettingWithCopyWarning: \n",
      "A value is trying to be set on a copy of a slice from a DataFrame.\n",
      "Try using .loc[row_indexer,col_indexer] = value instead\n",
      "\n",
      "See the caveats in the documentation: https://pandas.pydata.org/pandas-docs/stable/user_guide/indexing.html#returning-a-view-versus-a-copy\n",
      "  car_df['DriveType_encoded1'] = le.fit_transform(car_df['DriveType'])\n"
     ]
    }
   ],
   "source": [
    "le = LabelEncoder()\n",
    "# Fit and transform the categorical data\n",
    "car_df['DriveType_encoded1'] = le.fit_transform(car_df['DriveType'])\n",
    "# Display the encoded values using a for loop\n",
    "d_drivetype={}\n",
    "for  idx, (category, encoded) in enumerate(zip(car_df['DriveType'], car_df['DriveType_encoded1'])):\n",
    "    if(category in d_drivetype.keys()):\n",
    "        continue\n",
    "    d_drivetype[category]=encoded\n",
    "    print(f\"{idx}: {category} -> {encoded}\")\n",
    "\n"
   ]
  },
  {
   "cell_type": "markdown",
   "metadata": {},
   "source": [
    "### LABLE ENCODING - INSURANCE"
   ]
  },
  {
   "cell_type": "code",
   "execution_count": 47,
   "metadata": {},
   "outputs": [
    {
     "name": "stdout",
     "output_type": "stream",
     "text": [
      "0: Third Party insurance -> 3\n",
      "1: Comprehensive -> 0\n",
      "26: Third Party -> 2\n",
      "64: Zero Dep -> 4\n",
      "1373: Not Available -> 1\n"
     ]
    },
    {
     "name": "stderr",
     "output_type": "stream",
     "text": [
      "/var/folders/9f/yq802r3j2fz3rrryxz38vzbh0000gn/T/ipykernel_2228/1210543996.py:3: SettingWithCopyWarning: \n",
      "A value is trying to be set on a copy of a slice from a DataFrame.\n",
      "Try using .loc[row_indexer,col_indexer] = value instead\n",
      "\n",
      "See the caveats in the documentation: https://pandas.pydata.org/pandas-docs/stable/user_guide/indexing.html#returning-a-view-versus-a-copy\n",
      "  car_df['Insurance_encoded1'] = le.fit_transform(car_df['Insurance'])\n"
     ]
    }
   ],
   "source": [
    "le = LabelEncoder()\n",
    "# Fit and transform the categorical data\n",
    "car_df['Insurance_encoded1'] = le.fit_transform(car_df['Insurance'])\n",
    "# Display the encoded values using a for loop\n",
    "d_Insurance={}\n",
    "for  idx, (category, encoded) in enumerate(zip(car_df['Insurance'], car_df['Insurance_encoded1'])):\n",
    "    if(category in d_Insurance.keys()):\n",
    "        continue\n",
    "    d_Insurance[category]=encoded\n",
    "    print(f\"{idx}: {category} -> {encoded}\")\n",
    "\n"
   ]
  },
  {
   "cell_type": "code",
   "execution_count": 48,
   "metadata": {},
   "outputs": [
    {
     "data": {
      "text/html": [
       "<div>\n",
       "<style scoped>\n",
       "    .dataframe tbody tr th:only-of-type {\n",
       "        vertical-align: middle;\n",
       "    }\n",
       "\n",
       "    .dataframe tbody tr th {\n",
       "        vertical-align: top;\n",
       "    }\n",
       "\n",
       "    .dataframe thead th {\n",
       "        text-align: right;\n",
       "    }\n",
       "</style>\n",
       "<table border=\"1\" class=\"dataframe\">\n",
       "  <thead>\n",
       "    <tr style=\"text-align: right;\">\n",
       "      <th></th>\n",
       "      <th>bodytype</th>\n",
       "      <th>seats</th>\n",
       "      <th>kms</th>\n",
       "      <th>modelYear</th>\n",
       "      <th>fueltype</th>\n",
       "      <th>ownerNo</th>\n",
       "      <th>transmission</th>\n",
       "      <th>price</th>\n",
       "      <th>Insurance</th>\n",
       "      <th>engine_cc</th>\n",
       "      <th>...</th>\n",
       "      <th>Mileage</th>\n",
       "      <th>DriveType</th>\n",
       "      <th>city</th>\n",
       "      <th>oem_encoded1</th>\n",
       "      <th>city_encoded1</th>\n",
       "      <th>bodytype_encoded1</th>\n",
       "      <th>fueltype_encoded1</th>\n",
       "      <th>transmission_encoded1</th>\n",
       "      <th>DriveType_encoded1</th>\n",
       "      <th>Insurance_encoded1</th>\n",
       "    </tr>\n",
       "  </thead>\n",
       "  <tbody>\n",
       "    <tr>\n",
       "      <th>0</th>\n",
       "      <td>SUV</td>\n",
       "      <td>5.0</td>\n",
       "      <td>20000</td>\n",
       "      <td>2022</td>\n",
       "      <td>Petrol</td>\n",
       "      <td>1</td>\n",
       "      <td>Automatic</td>\n",
       "      <td>1150000</td>\n",
       "      <td>Third Party insurance</td>\n",
       "      <td>998.0</td>\n",
       "      <td>...</td>\n",
       "      <td>18.90</td>\n",
       "      <td>FWD</td>\n",
       "      <td>chennai</td>\n",
       "      <td>13</td>\n",
       "      <td>1</td>\n",
       "      <td>6</td>\n",
       "      <td>4</td>\n",
       "      <td>0</td>\n",
       "      <td>2</td>\n",
       "      <td>3</td>\n",
       "    </tr>\n",
       "    <tr>\n",
       "      <th>1</th>\n",
       "      <td>Minivans</td>\n",
       "      <td>7.0</td>\n",
       "      <td>20687</td>\n",
       "      <td>2015</td>\n",
       "      <td>Petrol</td>\n",
       "      <td>1</td>\n",
       "      <td>Manual</td>\n",
       "      <td>415000</td>\n",
       "      <td>Comprehensive</td>\n",
       "      <td>1196.0</td>\n",
       "      <td>...</td>\n",
       "      <td>15.37</td>\n",
       "      <td>RWD</td>\n",
       "      <td>chennai</td>\n",
       "      <td>18</td>\n",
       "      <td>1</td>\n",
       "      <td>4</td>\n",
       "      <td>4</td>\n",
       "      <td>1</td>\n",
       "      <td>3</td>\n",
       "      <td>0</td>\n",
       "    </tr>\n",
       "    <tr>\n",
       "      <th>2</th>\n",
       "      <td>SUV</td>\n",
       "      <td>5.0</td>\n",
       "      <td>30000</td>\n",
       "      <td>2021</td>\n",
       "      <td>Petrol</td>\n",
       "      <td>1</td>\n",
       "      <td>Manual</td>\n",
       "      <td>750000</td>\n",
       "      <td>Third Party insurance</td>\n",
       "      <td>999.0</td>\n",
       "      <td>...</td>\n",
       "      <td>20.00</td>\n",
       "      <td>FWD</td>\n",
       "      <td>chennai</td>\n",
       "      <td>22</td>\n",
       "      <td>1</td>\n",
       "      <td>6</td>\n",
       "      <td>4</td>\n",
       "      <td>1</td>\n",
       "      <td>2</td>\n",
       "      <td>3</td>\n",
       "    </tr>\n",
       "    <tr>\n",
       "      <th>3</th>\n",
       "      <td>Hatchback</td>\n",
       "      <td>5.0</td>\n",
       "      <td>59247</td>\n",
       "      <td>2015</td>\n",
       "      <td>Petrol</td>\n",
       "      <td>1</td>\n",
       "      <td>Manual</td>\n",
       "      <td>398000</td>\n",
       "      <td>Comprehensive</td>\n",
       "      <td>1086.0</td>\n",
       "      <td>...</td>\n",
       "      <td>19.81</td>\n",
       "      <td>FWD</td>\n",
       "      <td>chennai</td>\n",
       "      <td>9</td>\n",
       "      <td>1</td>\n",
       "      <td>2</td>\n",
       "      <td>4</td>\n",
       "      <td>1</td>\n",
       "      <td>2</td>\n",
       "      <td>0</td>\n",
       "    </tr>\n",
       "    <tr>\n",
       "      <th>4</th>\n",
       "      <td>Hatchback</td>\n",
       "      <td>5.0</td>\n",
       "      <td>50000</td>\n",
       "      <td>2015</td>\n",
       "      <td>Petrol</td>\n",
       "      <td>1</td>\n",
       "      <td>Manual</td>\n",
       "      <td>550000</td>\n",
       "      <td>Third Party insurance</td>\n",
       "      <td>1199.0</td>\n",
       "      <td>...</td>\n",
       "      <td>18.70</td>\n",
       "      <td>FWD</td>\n",
       "      <td>chennai</td>\n",
       "      <td>8</td>\n",
       "      <td>1</td>\n",
       "      <td>2</td>\n",
       "      <td>4</td>\n",
       "      <td>1</td>\n",
       "      <td>2</td>\n",
       "      <td>3</td>\n",
       "    </tr>\n",
       "  </tbody>\n",
       "</table>\n",
       "<p>5 rows × 22 columns</p>\n",
       "</div>"
      ],
      "text/plain": [
       "    bodytype  seats    kms  modelYear fueltype  ownerNo transmission    price  \\\n",
       "0        SUV    5.0  20000       2022   Petrol        1    Automatic  1150000   \n",
       "1   Minivans    7.0  20687       2015   Petrol        1       Manual   415000   \n",
       "2        SUV    5.0  30000       2021   Petrol        1       Manual   750000   \n",
       "3  Hatchback    5.0  59247       2015   Petrol        1       Manual   398000   \n",
       "4  Hatchback    5.0  50000       2015   Petrol        1       Manual   550000   \n",
       "\n",
       "               Insurance  engine_cc  ... Mileage  DriveType     city  \\\n",
       "0  Third Party insurance      998.0  ...   18.90        FWD  chennai   \n",
       "1          Comprehensive     1196.0  ...   15.37        RWD  chennai   \n",
       "2  Third Party insurance      999.0  ...   20.00        FWD  chennai   \n",
       "3          Comprehensive     1086.0  ...   19.81        FWD  chennai   \n",
       "4  Third Party insurance     1199.0  ...   18.70        FWD  chennai   \n",
       "\n",
       "  oem_encoded1 city_encoded1  bodytype_encoded1  fueltype_encoded1  \\\n",
       "0           13             1                  6                  4   \n",
       "1           18             1                  4                  4   \n",
       "2           22             1                  6                  4   \n",
       "3            9             1                  2                  4   \n",
       "4            8             1                  2                  4   \n",
       "\n",
       "   transmission_encoded1  DriveType_encoded1  Insurance_encoded1  \n",
       "0                      0                   2                   3  \n",
       "1                      1                   3                   0  \n",
       "2                      1                   2                   3  \n",
       "3                      1                   2                   0  \n",
       "4                      1                   2                   3  \n",
       "\n",
       "[5 rows x 22 columns]"
      ]
     },
     "execution_count": 48,
     "metadata": {},
     "output_type": "execute_result"
    }
   ],
   "source": [
    "car_df.head()"
   ]
  },
  {
   "cell_type": "code",
   "execution_count": 49,
   "metadata": {},
   "outputs": [
    {
     "data": {
      "text/plain": [
       "(8599, 22)"
      ]
     },
     "execution_count": 49,
     "metadata": {},
     "output_type": "execute_result"
    }
   ],
   "source": [
    "car_df.shape"
   ]
  },
  {
   "cell_type": "markdown",
   "metadata": {},
   "source": [
    "### NEW FEATURE"
   ]
  },
  {
   "cell_type": "code",
   "execution_count": 50,
   "metadata": {},
   "outputs": [],
   "source": [
    "new_feature = ['Gearbox','Year of Manufacture','modelYear','kms driven',\n",
    "'Mileage','owner','seats','Registration Year','Engine Displacement',\n",
    "'city_encoded1','oem_encoded1','bodytype_encoded1','fueltype_encoded1',\n",
    "'transmission_encoded1','DriveType_encoded1','Insurance_encoded1']"
   ]
  },
  {
   "cell_type": "code",
   "execution_count": 51,
   "metadata": {},
   "outputs": [
    {
     "data": {
      "text/plain": [
       "16"
      ]
     },
     "execution_count": 51,
     "metadata": {},
     "output_type": "execute_result"
    }
   ],
   "source": [
    "len(new_feature)"
   ]
  },
  {
   "cell_type": "code",
   "execution_count": 52,
   "metadata": {},
   "outputs": [],
   "source": [
    "numerical_columns = ['seats', 'kms', 'modelYear', 'ownerNo', 'engine_cc', 'Gearbox',\n",
    "       'Mileage']\n",
    "\n",
    "categorical_columns =['bodytype', 'fueltype', 'transmission', 'Insurance', 'oem', 'DriveType',\n",
    "       'city']"
   ]
  },
  {
   "cell_type": "code",
   "execution_count": 53,
   "metadata": {},
   "outputs": [
    {
     "data": {
      "text/plain": [
       "Index(['seats', 'kms', 'modelYear', 'ownerNo', 'engine_cc', 'Gearbox',\n",
       "       'Mileage'],\n",
       "      dtype='object')"
      ]
     },
     "execution_count": 53,
     "metadata": {},
     "output_type": "execute_result"
    }
   ],
   "source": [
    "numerical_cols1"
   ]
  },
  {
   "cell_type": "code",
   "execution_count": 54,
   "metadata": {},
   "outputs": [
    {
     "data": {
      "text/plain": [
       "Index(['bodytype', 'fueltype', 'transmission', 'Insurance', 'oem', 'DriveType',\n",
       "       'city'],\n",
       "      dtype='object')"
      ]
     },
     "execution_count": 54,
     "metadata": {},
     "output_type": "execute_result"
    }
   ],
   "source": [
    "categorical_cols"
   ]
  },
  {
   "cell_type": "markdown",
   "metadata": {},
   "source": [
    "### TRAIN TEST SPLITTING OF DATA"
   ]
  },
  {
   "cell_type": "code",
   "execution_count": 55,
   "metadata": {},
   "outputs": [],
   "source": [
    "from sklearn.model_selection import train_test_split\n",
    "from sklearn.ensemble import RandomForestRegressor\n",
    "from sklearn.metrics import mean_squared_error\n",
    "import pandas as pd\n",
    "from sklearn.preprocessing import MinMaxScaler, LabelEncoder, OneHotEncoder\n",
    "from sklearn.model_selection import train_test_split\n",
    "from sklearn.preprocessing import LabelEncoder\n",
    "from sklearn.metrics import r2_score\n",
    "X = car_df[numerical_columns + categorical_columns]\n",
    "y = car_df['price']"
   ]
  },
  {
   "cell_type": "code",
   "execution_count": 56,
   "metadata": {},
   "outputs": [],
   "source": [
    "categorical_columns_label = ['bodytype']  # Columns to label encode\n",
    "categorical_columns_one_hot = ['fueltype', 'transmission', 'Insurance', 'oem', 'DriveType', 'city']  # Columns to one-hot encode\n",
    "numerical_columns = ['seats', 'kms', 'modelYear', 'ownerNo', 'engine_cc', 'Gearbox', 'Mileage']  # Numerical columns to scale"
   ]
  },
  {
   "cell_type": "markdown",
   "metadata": {},
   "source": [
    "### Label Encoding for Bodytype"
   ]
  },
  {
   "cell_type": "code",
   "execution_count": 57,
   "metadata": {},
   "outputs": [
    {
     "name": "stderr",
     "output_type": "stream",
     "text": [
      "/var/folders/9f/yq802r3j2fz3rrryxz38vzbh0000gn/T/ipykernel_2228/3347631989.py:4: SettingWithCopyWarning: \n",
      "A value is trying to be set on a copy of a slice from a DataFrame.\n",
      "Try using .loc[row_indexer,col_indexer] = value instead\n",
      "\n",
      "See the caveats in the documentation: https://pandas.pydata.org/pandas-docs/stable/user_guide/indexing.html#returning-a-view-versus-a-copy\n",
      "  X[column] = le.fit_transform(X[column])  # Apply Label Encoding\n"
     ]
    }
   ],
   "source": [
    "label_encoders = {}\n",
    "for column in categorical_columns_label:\n",
    "    le = LabelEncoder()\n",
    "    X[column] = le.fit_transform(X[column])  # Apply Label Encoding\n",
    "    label_encoders[column] = le  # Store the encoder if needed later"
   ]
  },
  {
   "cell_type": "code",
   "execution_count": 58,
   "metadata": {},
   "outputs": [],
   "source": [
    "one_hot_encoder = OneHotEncoder(drop='first', sparse_output=False)\n",
    "X_encoded = pd.DataFrame(one_hot_encoder.fit_transform(X[categorical_columns_one_hot]))\n",
    "X_encoded.columns = one_hot_encoder.get_feature_names_out(categorical_columns_one_hot)  # Naming the columns\n",
    "\n",
    "# Drop original one-hot columns and concatenate encoded columns\n",
    "X = X.drop(columns=categorical_columns_one_hot).reset_index(drop=True)\n",
    "X = pd.concat([X, X_encoded], axis=1)"
   ]
  },
  {
   "cell_type": "markdown",
   "metadata": {},
   "source": [
    "### SCALING"
   ]
  },
  {
   "cell_type": "code",
   "execution_count": 59,
   "metadata": {},
   "outputs": [],
   "source": [
    "from sklearn.preprocessing import MinMaxScaler, LabelEncoder\n",
    "# Scale numerical columns\n",
    "scaler = MinMaxScaler()\n",
    "X[numerical_columns] = scaler.fit_transform(X[numerical_columns])"
   ]
  },
  {
   "cell_type": "code",
   "execution_count": 60,
   "metadata": {},
   "outputs": [
    {
     "data": {
      "text/plain": [
       "((6019, 56), (2580, 56), (6019,), (2580,))"
      ]
     },
     "execution_count": 60,
     "metadata": {},
     "output_type": "execute_result"
    }
   ],
   "source": [
    "X_train, X_test, y_train, y_test = train_test_split(X, y, test_size=0.3, random_state=42)\n",
    "X_train.shape, X_test.shape, y_train.shape, y_test.shape"
   ]
  },
  {
   "cell_type": "code",
   "execution_count": 61,
   "metadata": {},
   "outputs": [
    {
     "data": {
      "text/html": [
       "<div>\n",
       "<style scoped>\n",
       "    .dataframe tbody tr th:only-of-type {\n",
       "        vertical-align: middle;\n",
       "    }\n",
       "\n",
       "    .dataframe tbody tr th {\n",
       "        vertical-align: top;\n",
       "    }\n",
       "\n",
       "    .dataframe thead th {\n",
       "        text-align: right;\n",
       "    }\n",
       "</style>\n",
       "<table border=\"1\" class=\"dataframe\">\n",
       "  <thead>\n",
       "    <tr style=\"text-align: right;\">\n",
       "      <th></th>\n",
       "      <th>seats</th>\n",
       "      <th>kms</th>\n",
       "      <th>modelYear</th>\n",
       "      <th>ownerNo</th>\n",
       "      <th>engine_cc</th>\n",
       "      <th>Gearbox</th>\n",
       "      <th>Mileage</th>\n",
       "      <th>bodytype</th>\n",
       "      <th>fueltype_Diesel</th>\n",
       "      <th>fueltype_Electric</th>\n",
       "      <th>...</th>\n",
       "      <th>oem_Volkswagen</th>\n",
       "      <th>oem_Volvo</th>\n",
       "      <th>DriveType_AWD</th>\n",
       "      <th>DriveType_FWD</th>\n",
       "      <th>DriveType_RWD</th>\n",
       "      <th>city_chennai</th>\n",
       "      <th>city_delhi</th>\n",
       "      <th>city_hyderabad</th>\n",
       "      <th>city_jaipur</th>\n",
       "      <th>city_kolkata</th>\n",
       "    </tr>\n",
       "  </thead>\n",
       "  <tbody>\n",
       "    <tr>\n",
       "      <th>8365</th>\n",
       "      <td>0.625</td>\n",
       "      <td>0.153846</td>\n",
       "      <td>0.857143</td>\n",
       "      <td>0.333333</td>\n",
       "      <td>0.773585</td>\n",
       "      <td>0.333333</td>\n",
       "      <td>0.105435</td>\n",
       "      <td>6</td>\n",
       "      <td>1.0</td>\n",
       "      <td>0.0</td>\n",
       "      <td>...</td>\n",
       "      <td>0.0</td>\n",
       "      <td>0.0</td>\n",
       "      <td>0.0</td>\n",
       "      <td>0.0</td>\n",
       "      <td>0.0</td>\n",
       "      <td>0.0</td>\n",
       "      <td>0.0</td>\n",
       "      <td>0.0</td>\n",
       "      <td>0.0</td>\n",
       "      <td>1.0</td>\n",
       "    </tr>\n",
       "    <tr>\n",
       "      <th>3463</th>\n",
       "      <td>0.375</td>\n",
       "      <td>0.161538</td>\n",
       "      <td>0.857143</td>\n",
       "      <td>0.333333</td>\n",
       "      <td>0.476052</td>\n",
       "      <td>0.333333</td>\n",
       "      <td>0.448551</td>\n",
       "      <td>7</td>\n",
       "      <td>1.0</td>\n",
       "      <td>0.0</td>\n",
       "      <td>...</td>\n",
       "      <td>0.0</td>\n",
       "      <td>0.0</td>\n",
       "      <td>0.0</td>\n",
       "      <td>1.0</td>\n",
       "      <td>0.0</td>\n",
       "      <td>0.0</td>\n",
       "      <td>0.0</td>\n",
       "      <td>1.0</td>\n",
       "      <td>0.0</td>\n",
       "      <td>0.0</td>\n",
       "    </tr>\n",
       "    <tr>\n",
       "      <th>1477</th>\n",
       "      <td>0.375</td>\n",
       "      <td>0.269231</td>\n",
       "      <td>0.678571</td>\n",
       "      <td>0.666667</td>\n",
       "      <td>0.270924</td>\n",
       "      <td>0.166667</td>\n",
       "      <td>0.579710</td>\n",
       "      <td>2</td>\n",
       "      <td>1.0</td>\n",
       "      <td>0.0</td>\n",
       "      <td>...</td>\n",
       "      <td>0.0</td>\n",
       "      <td>0.0</td>\n",
       "      <td>0.0</td>\n",
       "      <td>1.0</td>\n",
       "      <td>0.0</td>\n",
       "      <td>0.0</td>\n",
       "      <td>0.0</td>\n",
       "      <td>0.0</td>\n",
       "      <td>0.0</td>\n",
       "      <td>0.0</td>\n",
       "    </tr>\n",
       "    <tr>\n",
       "      <th>7559</th>\n",
       "      <td>0.375</td>\n",
       "      <td>0.232819</td>\n",
       "      <td>0.678571</td>\n",
       "      <td>0.333333</td>\n",
       "      <td>0.262700</td>\n",
       "      <td>0.166667</td>\n",
       "      <td>0.359420</td>\n",
       "      <td>2</td>\n",
       "      <td>0.0</td>\n",
       "      <td>0.0</td>\n",
       "      <td>...</td>\n",
       "      <td>0.0</td>\n",
       "      <td>0.0</td>\n",
       "      <td>0.0</td>\n",
       "      <td>1.0</td>\n",
       "      <td>0.0</td>\n",
       "      <td>0.0</td>\n",
       "      <td>0.0</td>\n",
       "      <td>0.0</td>\n",
       "      <td>0.0</td>\n",
       "      <td>1.0</td>\n",
       "    </tr>\n",
       "    <tr>\n",
       "      <th>1173</th>\n",
       "      <td>0.625</td>\n",
       "      <td>0.269362</td>\n",
       "      <td>0.642857</td>\n",
       "      <td>0.333333</td>\n",
       "      <td>0.599178</td>\n",
       "      <td>0.166667</td>\n",
       "      <td>0.199275</td>\n",
       "      <td>6</td>\n",
       "      <td>1.0</td>\n",
       "      <td>0.0</td>\n",
       "      <td>...</td>\n",
       "      <td>0.0</td>\n",
       "      <td>0.0</td>\n",
       "      <td>0.0</td>\n",
       "      <td>0.0</td>\n",
       "      <td>0.0</td>\n",
       "      <td>1.0</td>\n",
       "      <td>0.0</td>\n",
       "      <td>0.0</td>\n",
       "      <td>0.0</td>\n",
       "      <td>0.0</td>\n",
       "    </tr>\n",
       "  </tbody>\n",
       "</table>\n",
       "<p>5 rows × 56 columns</p>\n",
       "</div>"
      ],
      "text/plain": [
       "      seats       kms  modelYear   ownerNo  engine_cc   Gearbox   Mileage  \\\n",
       "8365  0.625  0.153846   0.857143  0.333333   0.773585  0.333333  0.105435   \n",
       "3463  0.375  0.161538   0.857143  0.333333   0.476052  0.333333  0.448551   \n",
       "1477  0.375  0.269231   0.678571  0.666667   0.270924  0.166667  0.579710   \n",
       "7559  0.375  0.232819   0.678571  0.333333   0.262700  0.166667  0.359420   \n",
       "1173  0.625  0.269362   0.642857  0.333333   0.599178  0.166667  0.199275   \n",
       "\n",
       "      bodytype  fueltype_Diesel  fueltype_Electric  ...  oem_Volkswagen  \\\n",
       "8365         6              1.0                0.0  ...             0.0   \n",
       "3463         7              1.0                0.0  ...             0.0   \n",
       "1477         2              1.0                0.0  ...             0.0   \n",
       "7559         2              0.0                0.0  ...             0.0   \n",
       "1173         6              1.0                0.0  ...             0.0   \n",
       "\n",
       "      oem_Volvo  DriveType_AWD  DriveType_FWD  DriveType_RWD  city_chennai  \\\n",
       "8365        0.0            0.0            0.0            0.0           0.0   \n",
       "3463        0.0            0.0            1.0            0.0           0.0   \n",
       "1477        0.0            0.0            1.0            0.0           0.0   \n",
       "7559        0.0            0.0            1.0            0.0           0.0   \n",
       "1173        0.0            0.0            0.0            0.0           1.0   \n",
       "\n",
       "      city_delhi  city_hyderabad  city_jaipur  city_kolkata  \n",
       "8365         0.0             0.0          0.0           1.0  \n",
       "3463         0.0             1.0          0.0           0.0  \n",
       "1477         0.0             0.0          0.0           0.0  \n",
       "7559         0.0             0.0          0.0           1.0  \n",
       "1173         0.0             0.0          0.0           0.0  \n",
       "\n",
       "[5 rows x 56 columns]"
      ]
     },
     "execution_count": 61,
     "metadata": {},
     "output_type": "execute_result"
    }
   ],
   "source": [
    "X_train.head()"
   ]
  },
  {
   "cell_type": "markdown",
   "metadata": {},
   "source": [
    "### LINEAR REGRESSION MODEL "
   ]
  },
  {
   "cell_type": "code",
   "execution_count": 62,
   "metadata": {},
   "outputs": [
    {
     "data": {
      "text/plain": [
       "array([627994.90290744, 129871.76398908, 661768.46344847, ...,\n",
       "       184965.42340696, 907183.6449788 , 601207.18063183], shape=(2580,))"
      ]
     },
     "execution_count": 62,
     "metadata": {},
     "output_type": "execute_result"
    }
   ],
   "source": [
    "from sklearn.linear_model import LinearRegression\n",
    "\n",
    "# Initialize the model\n",
    "models = LinearRegression()\n",
    "\n",
    "# Fit the model on the training data\n",
    "models.fit(X_train, y_train)\n",
    "\n",
    "# Optionally, you can make predictions on the test set\n",
    "y_pred = models.predict(X_test)\n",
    "\n",
    "# Display predictions (optional)\n",
    "y_pred"
   ]
  },
  {
   "cell_type": "code",
   "execution_count": 63,
   "metadata": {},
   "outputs": [
    {
     "name": "stdout",
     "output_type": "stream",
     "text": [
      "Mean Absolute Error (MAE): 268156.584396\n",
      "Mean Squared Error (MSE): 213666611900.04\n",
      "R-squared: 0.7552\n",
      "Root Mean Squared Error: 462240.85918494425\n"
     ]
    }
   ],
   "source": [
    "from sklearn import metrics\n",
    "import numpy as np\n",
    "from sklearn.metrics import mean_absolute_error, mean_squared_error, r2_score\n",
    "\n",
    "# Calculate evaluation metrics\n",
    "mae = mean_absolute_error(y_test, y_pred)\n",
    "mse = mean_squared_error(y_test, y_pred)\n",
    "r2 = r2_score(y_test, y_pred)\n",
    "\n",
    "# for evaluation / accuracy--  prediction + y_test\n",
    "# Display the results\n",
    "print(f\"Mean Absolute Error (MAE): {mae:f}\")\n",
    "print(f\"Mean Squared Error (MSE): {mse:.2f}\")\n",
    "print(f\"R-squared: {r2:.4f}\")\n",
    "print('Root Mean Squared Error:', np.sqrt(metrics.mean_squared_error(y_test, y_pred)))"
   ]
  },
  {
   "cell_type": "markdown",
   "metadata": {},
   "source": [
    "### RANDOM FOREST\n"
   ]
  },
  {
   "cell_type": "code",
   "execution_count": 64,
   "metadata": {},
   "outputs": [
    {
     "name": "stdout",
     "output_type": "stream",
     "text": [
      "Mean Squared Error: 213666611900.03546\n",
      "root mean square : 0.8914333443127791\n",
      "Mean Absolute Error (MAE): 140144.73\n",
      "Root Mean Squared Error: 307801.69073679484\n"
     ]
    }
   ],
   "source": [
    "from sklearn.model_selection import train_test_split\n",
    "from sklearn.ensemble import RandomForestRegressor\n",
    "from sklearn.metrics import mean_squared_error\n",
    "from sklearn.metrics import r2_score\n",
    "\n",
    "\n",
    "model = RandomForestRegressor(random_state=42,n_estimators=350,max_depth=50)\n",
    "model.fit(X_train, y_train)\n",
    "\n",
    "y_pred = model.predict(X_test)\n",
    "mean_squared_error(y_test, y_pred)\n",
    "print(f'Mean Squared Error: {mse}')\n",
    "print('root mean square :',r2_score(y_test, y_pred))\n",
    "a=mean_absolute_error(y_test, y_pred)\n",
    "print(f\"Mean Absolute Error (MAE): {a:.2f}\")\n",
    "print('Root Mean Squared Error:', np.sqrt(metrics.mean_squared_error(y_test, y_pred)))"
   ]
  },
  {
   "cell_type": "code",
   "execution_count": 65,
   "metadata": {},
   "outputs": [
    {
     "data": {
      "text/html": [
       "<div>\n",
       "<style scoped>\n",
       "    .dataframe tbody tr th:only-of-type {\n",
       "        vertical-align: middle;\n",
       "    }\n",
       "\n",
       "    .dataframe tbody tr th {\n",
       "        vertical-align: top;\n",
       "    }\n",
       "\n",
       "    .dataframe thead th {\n",
       "        text-align: right;\n",
       "    }\n",
       "</style>\n",
       "<table border=\"1\" class=\"dataframe\">\n",
       "  <thead>\n",
       "    <tr style=\"text-align: right;\">\n",
       "      <th></th>\n",
       "      <th>Feature</th>\n",
       "      <th>Importance</th>\n",
       "    </tr>\n",
       "  </thead>\n",
       "  <tbody>\n",
       "    <tr>\n",
       "      <th>5</th>\n",
       "      <td>Gearbox</td>\n",
       "      <td>4.054632e-01</td>\n",
       "    </tr>\n",
       "    <tr>\n",
       "      <th>2</th>\n",
       "      <td>modelYear</td>\n",
       "      <td>1.675112e-01</td>\n",
       "    </tr>\n",
       "    <tr>\n",
       "      <th>4</th>\n",
       "      <td>engine_cc</td>\n",
       "      <td>1.426113e-01</td>\n",
       "    </tr>\n",
       "    <tr>\n",
       "      <th>7</th>\n",
       "      <td>bodytype</td>\n",
       "      <td>4.366774e-02</td>\n",
       "    </tr>\n",
       "    <tr>\n",
       "      <th>1</th>\n",
       "      <td>kms</td>\n",
       "      <td>3.808212e-02</td>\n",
       "    </tr>\n",
       "    <tr>\n",
       "      <th>12</th>\n",
       "      <td>transmission_Manual</td>\n",
       "      <td>2.901277e-02</td>\n",
       "    </tr>\n",
       "    <tr>\n",
       "      <th>35</th>\n",
       "      <td>oem_Mercedes-Benz</td>\n",
       "      <td>2.848071e-02</td>\n",
       "    </tr>\n",
       "    <tr>\n",
       "      <th>54</th>\n",
       "      <td>city_jaipur</td>\n",
       "      <td>2.802050e-02</td>\n",
       "    </tr>\n",
       "    <tr>\n",
       "      <th>6</th>\n",
       "      <td>Mileage</td>\n",
       "      <td>2.542388e-02</td>\n",
       "    </tr>\n",
       "    <tr>\n",
       "      <th>48</th>\n",
       "      <td>DriveType_AWD</td>\n",
       "      <td>9.275257e-03</td>\n",
       "    </tr>\n",
       "    <tr>\n",
       "      <th>17</th>\n",
       "      <td>oem_BMW</td>\n",
       "      <td>7.957832e-03</td>\n",
       "    </tr>\n",
       "    <tr>\n",
       "      <th>45</th>\n",
       "      <td>oem_Toyota</td>\n",
       "      <td>6.396171e-03</td>\n",
       "    </tr>\n",
       "    <tr>\n",
       "      <th>28</th>\n",
       "      <td>oem_Jeep</td>\n",
       "      <td>5.953889e-03</td>\n",
       "    </tr>\n",
       "    <tr>\n",
       "      <th>27</th>\n",
       "      <td>oem_Jaguar</td>\n",
       "      <td>5.805984e-03</td>\n",
       "    </tr>\n",
       "    <tr>\n",
       "      <th>0</th>\n",
       "      <td>seats</td>\n",
       "      <td>4.726200e-03</td>\n",
       "    </tr>\n",
       "    <tr>\n",
       "      <th>8</th>\n",
       "      <td>fueltype_Diesel</td>\n",
       "      <td>4.447365e-03</td>\n",
       "    </tr>\n",
       "    <tr>\n",
       "      <th>36</th>\n",
       "      <td>oem_Mini</td>\n",
       "      <td>4.006251e-03</td>\n",
       "    </tr>\n",
       "    <tr>\n",
       "      <th>30</th>\n",
       "      <td>oem_Land Rover</td>\n",
       "      <td>3.975962e-03</td>\n",
       "    </tr>\n",
       "    <tr>\n",
       "      <th>55</th>\n",
       "      <td>city_kolkata</td>\n",
       "      <td>3.362879e-03</td>\n",
       "    </tr>\n",
       "    <tr>\n",
       "      <th>11</th>\n",
       "      <td>fueltype_Petrol</td>\n",
       "      <td>3.231272e-03</td>\n",
       "    </tr>\n",
       "    <tr>\n",
       "      <th>32</th>\n",
       "      <td>oem_MG</td>\n",
       "      <td>2.903716e-03</td>\n",
       "    </tr>\n",
       "    <tr>\n",
       "      <th>3</th>\n",
       "      <td>ownerNo</td>\n",
       "      <td>2.833784e-03</td>\n",
       "    </tr>\n",
       "    <tr>\n",
       "      <th>15</th>\n",
       "      <td>Insurance_Third Party insurance</td>\n",
       "      <td>2.562840e-03</td>\n",
       "    </tr>\n",
       "    <tr>\n",
       "      <th>52</th>\n",
       "      <td>city_delhi</td>\n",
       "      <td>2.289503e-03</td>\n",
       "    </tr>\n",
       "    <tr>\n",
       "      <th>51</th>\n",
       "      <td>city_chennai</td>\n",
       "      <td>1.948462e-03</td>\n",
       "    </tr>\n",
       "    <tr>\n",
       "      <th>22</th>\n",
       "      <td>oem_Ford</td>\n",
       "      <td>1.937762e-03</td>\n",
       "    </tr>\n",
       "    <tr>\n",
       "      <th>53</th>\n",
       "      <td>city_hyderabad</td>\n",
       "      <td>1.642841e-03</td>\n",
       "    </tr>\n",
       "    <tr>\n",
       "      <th>50</th>\n",
       "      <td>DriveType_RWD</td>\n",
       "      <td>1.627523e-03</td>\n",
       "    </tr>\n",
       "    <tr>\n",
       "      <th>47</th>\n",
       "      <td>oem_Volvo</td>\n",
       "      <td>1.542526e-03</td>\n",
       "    </tr>\n",
       "    <tr>\n",
       "      <th>49</th>\n",
       "      <td>DriveType_FWD</td>\n",
       "      <td>1.416637e-03</td>\n",
       "    </tr>\n",
       "    <tr>\n",
       "      <th>25</th>\n",
       "      <td>oem_Hyundai</td>\n",
       "      <td>1.414898e-03</td>\n",
       "    </tr>\n",
       "    <tr>\n",
       "      <th>33</th>\n",
       "      <td>oem_Mahindra</td>\n",
       "      <td>1.336272e-03</td>\n",
       "    </tr>\n",
       "    <tr>\n",
       "      <th>46</th>\n",
       "      <td>oem_Volkswagen</td>\n",
       "      <td>1.285939e-03</td>\n",
       "    </tr>\n",
       "    <tr>\n",
       "      <th>34</th>\n",
       "      <td>oem_Maruti</td>\n",
       "      <td>1.264421e-03</td>\n",
       "    </tr>\n",
       "    <tr>\n",
       "      <th>44</th>\n",
       "      <td>oem_Tata</td>\n",
       "      <td>1.061312e-03</td>\n",
       "    </tr>\n",
       "    <tr>\n",
       "      <th>29</th>\n",
       "      <td>oem_Kia</td>\n",
       "      <td>7.837274e-04</td>\n",
       "    </tr>\n",
       "    <tr>\n",
       "      <th>42</th>\n",
       "      <td>oem_Skoda</td>\n",
       "      <td>6.938628e-04</td>\n",
       "    </tr>\n",
       "    <tr>\n",
       "      <th>14</th>\n",
       "      <td>Insurance_Third Party</td>\n",
       "      <td>6.199619e-04</td>\n",
       "    </tr>\n",
       "    <tr>\n",
       "      <th>41</th>\n",
       "      <td>oem_Renault</td>\n",
       "      <td>5.989199e-04</td>\n",
       "    </tr>\n",
       "    <tr>\n",
       "      <th>19</th>\n",
       "      <td>oem_Citroen</td>\n",
       "      <td>5.848489e-04</td>\n",
       "    </tr>\n",
       "    <tr>\n",
       "      <th>9</th>\n",
       "      <td>fueltype_Electric</td>\n",
       "      <td>5.585878e-04</td>\n",
       "    </tr>\n",
       "    <tr>\n",
       "      <th>13</th>\n",
       "      <td>Insurance_Not Available</td>\n",
       "      <td>3.610933e-04</td>\n",
       "    </tr>\n",
       "    <tr>\n",
       "      <th>24</th>\n",
       "      <td>oem_Honda</td>\n",
       "      <td>3.260305e-04</td>\n",
       "    </tr>\n",
       "    <tr>\n",
       "      <th>20</th>\n",
       "      <td>oem_Datsun</td>\n",
       "      <td>2.852494e-04</td>\n",
       "    </tr>\n",
       "    <tr>\n",
       "      <th>16</th>\n",
       "      <td>Insurance_Zero Dep</td>\n",
       "      <td>1.850634e-04</td>\n",
       "    </tr>\n",
       "    <tr>\n",
       "      <th>40</th>\n",
       "      <td>oem_Porsche</td>\n",
       "      <td>1.764132e-04</td>\n",
       "    </tr>\n",
       "    <tr>\n",
       "      <th>18</th>\n",
       "      <td>oem_Chevrolet</td>\n",
       "      <td>1.305876e-04</td>\n",
       "    </tr>\n",
       "    <tr>\n",
       "      <th>37</th>\n",
       "      <td>oem_Mitsubishi</td>\n",
       "      <td>9.333261e-05</td>\n",
       "    </tr>\n",
       "    <tr>\n",
       "      <th>38</th>\n",
       "      <td>oem_Nissan</td>\n",
       "      <td>6.787732e-05</td>\n",
       "    </tr>\n",
       "    <tr>\n",
       "      <th>23</th>\n",
       "      <td>oem_Hindustan Motors</td>\n",
       "      <td>1.942380e-05</td>\n",
       "    </tr>\n",
       "    <tr>\n",
       "      <th>31</th>\n",
       "      <td>oem_Lexus</td>\n",
       "      <td>1.497511e-05</td>\n",
       "    </tr>\n",
       "    <tr>\n",
       "      <th>21</th>\n",
       "      <td>oem_Fiat</td>\n",
       "      <td>1.456711e-05</td>\n",
       "    </tr>\n",
       "    <tr>\n",
       "      <th>10</th>\n",
       "      <td>fueltype_Lpg</td>\n",
       "      <td>2.349966e-06</td>\n",
       "    </tr>\n",
       "    <tr>\n",
       "      <th>26</th>\n",
       "      <td>oem_Isuzu</td>\n",
       "      <td>1.026737e-06</td>\n",
       "    </tr>\n",
       "    <tr>\n",
       "      <th>43</th>\n",
       "      <td>oem_Ssangyong</td>\n",
       "      <td>8.906338e-07</td>\n",
       "    </tr>\n",
       "    <tr>\n",
       "      <th>39</th>\n",
       "      <td>oem_Opel</td>\n",
       "      <td>2.380753e-07</td>\n",
       "    </tr>\n",
       "  </tbody>\n",
       "</table>\n",
       "</div>"
      ],
      "text/plain": [
       "                            Feature    Importance\n",
       "5                           Gearbox  4.054632e-01\n",
       "2                         modelYear  1.675112e-01\n",
       "4                         engine_cc  1.426113e-01\n",
       "7                          bodytype  4.366774e-02\n",
       "1                               kms  3.808212e-02\n",
       "12              transmission_Manual  2.901277e-02\n",
       "35                oem_Mercedes-Benz  2.848071e-02\n",
       "54                      city_jaipur  2.802050e-02\n",
       "6                           Mileage  2.542388e-02\n",
       "48                    DriveType_AWD  9.275257e-03\n",
       "17                          oem_BMW  7.957832e-03\n",
       "45                       oem_Toyota  6.396171e-03\n",
       "28                         oem_Jeep  5.953889e-03\n",
       "27                       oem_Jaguar  5.805984e-03\n",
       "0                             seats  4.726200e-03\n",
       "8                   fueltype_Diesel  4.447365e-03\n",
       "36                         oem_Mini  4.006251e-03\n",
       "30                   oem_Land Rover  3.975962e-03\n",
       "55                     city_kolkata  3.362879e-03\n",
       "11                  fueltype_Petrol  3.231272e-03\n",
       "32                           oem_MG  2.903716e-03\n",
       "3                           ownerNo  2.833784e-03\n",
       "15  Insurance_Third Party insurance  2.562840e-03\n",
       "52                       city_delhi  2.289503e-03\n",
       "51                     city_chennai  1.948462e-03\n",
       "22                         oem_Ford  1.937762e-03\n",
       "53                   city_hyderabad  1.642841e-03\n",
       "50                    DriveType_RWD  1.627523e-03\n",
       "47                        oem_Volvo  1.542526e-03\n",
       "49                    DriveType_FWD  1.416637e-03\n",
       "25                      oem_Hyundai  1.414898e-03\n",
       "33                     oem_Mahindra  1.336272e-03\n",
       "46                   oem_Volkswagen  1.285939e-03\n",
       "34                       oem_Maruti  1.264421e-03\n",
       "44                         oem_Tata  1.061312e-03\n",
       "29                          oem_Kia  7.837274e-04\n",
       "42                        oem_Skoda  6.938628e-04\n",
       "14            Insurance_Third Party  6.199619e-04\n",
       "41                      oem_Renault  5.989199e-04\n",
       "19                      oem_Citroen  5.848489e-04\n",
       "9                 fueltype_Electric  5.585878e-04\n",
       "13          Insurance_Not Available  3.610933e-04\n",
       "24                        oem_Honda  3.260305e-04\n",
       "20                       oem_Datsun  2.852494e-04\n",
       "16               Insurance_Zero Dep  1.850634e-04\n",
       "40                      oem_Porsche  1.764132e-04\n",
       "18                    oem_Chevrolet  1.305876e-04\n",
       "37                   oem_Mitsubishi  9.333261e-05\n",
       "38                       oem_Nissan  6.787732e-05\n",
       "23             oem_Hindustan Motors  1.942380e-05\n",
       "31                        oem_Lexus  1.497511e-05\n",
       "21                         oem_Fiat  1.456711e-05\n",
       "10                     fueltype_Lpg  2.349966e-06\n",
       "26                        oem_Isuzu  1.026737e-06\n",
       "43                    oem_Ssangyong  8.906338e-07\n",
       "39                         oem_Opel  2.380753e-07"
      ]
     },
     "execution_count": 65,
     "metadata": {},
     "output_type": "execute_result"
    }
   ],
   "source": [
    "importances = model.feature_importances_\n",
    "feature_importances = pd.DataFrame({'Feature': X.columns, 'Importance': importances})\n",
    "feature_importances = feature_importances.sort_values(by='Importance', ascending=False)\n",
    "feature_importances"
   ]
  },
  {
   "cell_type": "markdown",
   "metadata": {},
   "source": [
    "### XG BOOST"
   ]
  },
  {
   "cell_type": "code",
   "execution_count": null,
   "metadata": {},
   "outputs": [
    {
     "name": "stdout",
     "output_type": "stream",
     "text": [
      "Fitting 5 folds for each of 972 candidates, totalling 4860 fits\n",
      "XGBoost Tuned Results:\n",
      "Best Parameters: {'colsample_bytree': 0.8, 'gamma': 0, 'learning_rate': 0.3, 'max_depth': 5, 'n_estimators': 300, 'subsample': 0.9}\n",
      "Mean Squared Error: 82147568004.7218\n",
      "R-squared Score: 0.9059\n",
      "Root Mean Squared Error: 286613.9704\n"
     ]
    }
   ],
   "source": [
    "import xgboost as xgb\n",
    "from sklearn.model_selection import train_test_split, GridSearchCV\n",
    "from sklearn.metrics import mean_squared_error, r2_score\n",
    "import numpy as np\n",
    "import joblib\n",
    "\n",
    "# Assuming X and y are your features and target variable\n",
    "\n",
    "# Create the XGBoost model\n",
    "xgb_model = xgb.XGBRegressor(random_state=42)\n",
    "\n",
    "# Define the hyperparameters to tune\n",
    "param_grid = {\n",
    "    'n_estimators': [100, 200, 300],\n",
    "    'max_depth': [3, 4, 5, 6],\n",
    "    'learning_rate': [0.01, 0.1, 0.3],\n",
    "    'subsample': [0.8, 0.9, 1.0],\n",
    "    'colsample_bytree': [0.8, 0.9, 1.0],\n",
    "    'gamma': [0, 0.1, 0.2]\n",
    "}\n",
    "\n",
    "# Set up GridSearchCV\n",
    "grid_search = GridSearchCV(estimator=xgb_model, param_grid=param_grid, \n",
    "                           cv=5, n_jobs=-1, verbose=2, scoring='r2')\n",
    "\n",
    "# Fit the grid search\n",
    "grid_search.fit(X_train, y_train)\n",
    "\n",
    "# Get the best parameters and model\n",
    "best_params = grid_search.best_params_\n",
    "best_model = grid_search.best_estimator_\n",
    "\n",
    "# Make predictions with the best model\n",
    "y_pred = best_model.predict(X_test)\n",
    "\n",
    "# Calculate metrics\n",
    "mse = mean_squared_error(y_test, y_pred)\n",
    "r2 = r2_score(y_test, y_pred)\n",
    "rmse = np.sqrt(mse)\n",
    "\n",
    "# Print results\n",
    "print(\"XGBoost Tuned Results:\")\n",
    "print(f\"Best Parameters: {best_params}\")\n",
    "print(f\"Mean Squared Error: {mse:.4f}\")\n",
    "print(f\"R-squared Score: {r2:.4f}\")\n",
    "print(f\"Root Mean Squared Error: {rmse:.4f}\")"
   ]
  },
  {
   "cell_type": "markdown",
   "metadata": {},
   "source": [
    "### Gradient boosting\n"
   ]
  },
  {
   "cell_type": "code",
   "execution_count": 66,
   "metadata": {},
   "outputs": [
    {
     "name": "stdout",
     "output_type": "stream",
     "text": [
      "Gradient Boosting Regressor Results:\n",
      "Mean Squared Error: 118519564642.6533\n",
      "R-squared Score: 0.8642\n",
      "Mean Absolute Error: 184100.1021\n",
      "Root Mean Squared Error: 344266.7057\n"
     ]
    }
   ],
   "source": [
    "from sklearn.ensemble import GradientBoostingRegressor\n",
    "from sklearn.model_selection import train_test_split\n",
    "from sklearn.metrics import mean_squared_error, r2_score, mean_absolute_error\n",
    "import numpy as np\n",
    "\n",
    "# Assuming X and y are your features and target variable\n",
    "\n",
    "# Create and train the Gradient Boosting model\n",
    "gb_model = GradientBoostingRegressor(n_estimators=100, learning_rate=0.1, max_depth=3, random_state=42)\n",
    "gb_model.fit(X_train, y_train)\n",
    "\n",
    "# Make predictions\n",
    "y_pred = gb_model.predict(X_test)\n",
    "\n",
    "# Calculate metrics\n",
    "mse = mean_squared_error(y_test, y_pred)\n",
    "r2 = r2_score(y_test, y_pred)\n",
    "mae = mean_absolute_error(y_test, y_pred)\n",
    "rmse = np.sqrt(mse)\n",
    "\n",
    "# Print results\n",
    "print(\"Gradient Boosting Regressor Results:\")\n",
    "print(f\"Mean Squared Error: {mse:.4f}\")\n",
    "print(f\"R-squared Score: {r2:.4f}\")\n",
    "print(f\"Mean Absolute Error: {mae:.4f}\")\n",
    "print(f\"Root Mean Squared Error: {rmse:.4f}\")\n"
   ]
  },
  {
   "cell_type": "code",
   "execution_count": 67,
   "metadata": {},
   "outputs": [
    {
     "name": "stdout",
     "output_type": "stream",
     "text": [
      "Feature seats: 0.0009\n",
      "Feature kms: 0.0192\n",
      "Feature modelYear: 0.1819\n",
      "Feature ownerNo: 0.0007\n",
      "Feature engine_cc: 0.1669\n",
      "Feature Gearbox: 0.3894\n",
      "Feature Mileage: 0.0084\n",
      "Feature bodytype: 0.0403\n",
      "Feature fueltype_Diesel: 0.0037\n",
      "Feature fueltype_Electric: 0.0005\n",
      "Feature fueltype_Lpg: 0.0000\n",
      "Feature fueltype_Petrol: 0.0036\n",
      "Feature transmission_Manual: 0.0652\n",
      "Feature Insurance_Not Available: 0.0016\n",
      "Feature Insurance_Third Party: 0.0007\n",
      "Feature Insurance_Third Party insurance: 0.0002\n",
      "Feature Insurance_Zero Dep: 0.0000\n",
      "Feature oem_BMW: 0.0105\n",
      "Feature oem_Chevrolet: 0.0000\n",
      "Feature oem_Citroen: 0.0000\n",
      "Feature oem_Datsun: 0.0005\n",
      "Feature oem_Fiat: 0.0000\n",
      "Feature oem_Ford: 0.0000\n",
      "Feature oem_Hindustan Motors: 0.0000\n",
      "Feature oem_Honda: 0.0000\n",
      "Feature oem_Hyundai: 0.0000\n",
      "Feature oem_Isuzu: 0.0000\n",
      "Feature oem_Jaguar: 0.0038\n",
      "Feature oem_Jeep: 0.0020\n",
      "Feature oem_Kia: 0.0000\n",
      "Feature oem_Land Rover: 0.0088\n",
      "Feature oem_Lexus: 0.0003\n",
      "Feature oem_MG: 0.0021\n",
      "Feature oem_Mahindra: 0.0006\n",
      "Feature oem_Maruti: 0.0005\n",
      "Feature oem_Mercedes-Benz: 0.0280\n",
      "Feature oem_Mini: 0.0040\n",
      "Feature oem_Mitsubishi: 0.0000\n",
      "Feature oem_Nissan: 0.0000\n",
      "Feature oem_Opel: 0.0000\n",
      "Feature oem_Porsche: 0.0010\n",
      "Feature oem_Renault: 0.0011\n",
      "Feature oem_Skoda: 0.0000\n",
      "Feature oem_Ssangyong: 0.0000\n",
      "Feature oem_Tata: 0.0009\n",
      "Feature oem_Toyota: 0.0031\n",
      "Feature oem_Volkswagen: 0.0000\n",
      "Feature oem_Volvo: 0.0017\n",
      "Feature DriveType_AWD: 0.0065\n",
      "Feature DriveType_FWD: 0.0111\n",
      "Feature DriveType_RWD: 0.0023\n",
      "Feature city_chennai: 0.0000\n",
      "Feature city_delhi: 0.0004\n",
      "Feature city_hyderabad: 0.0000\n",
      "Feature city_jaipur: 0.0236\n",
      "Feature city_kolkata: 0.0041\n"
     ]
    }
   ],
   "source": [
    "\n",
    "# Feature importance\n",
    "feature_importance = gb_model.feature_importances_\n",
    "for i, importance in enumerate(feature_importance):\n",
    "    print(f\"Feature {X.columns[i]}: {importance:.4f}\")"
   ]
  },
  {
   "cell_type": "markdown",
   "metadata": {},
   "source": [
    "### Comparison"
   ]
  },
  {
   "cell_type": "code",
   "execution_count": 70,
   "metadata": {},
   "outputs": [
    {
     "name": "stdout",
     "output_type": "stream",
     "text": [
      "\n",
      "Linear Regression Results:\n",
      "MSE: 213666611900.0356\n",
      "R2: 0.7552\n",
      "MAE: 268156.5844\n",
      "RMSE: 462240.8592\n",
      "\n",
      "Random Forest Results:\n",
      "MSE: 98062268811.7686\n",
      "R2: 0.8876\n",
      "MAE: 142508.9132\n",
      "RMSE: 313148.9563\n",
      "\n",
      "Gradient Boosting Results:\n",
      "MSE: 118519564642.6533\n",
      "R2: 0.8642\n",
      "MAE: 184100.1021\n",
      "RMSE: 344266.7057\n",
      "\n",
      "Best model based on R2 score: Random Forest\n"
     ]
    }
   ],
   "source": [
    "from sklearn.linear_model import LinearRegression, ElasticNet\n",
    "from sklearn.ensemble import RandomForestRegressor, GradientBoostingRegressor\n",
    "from sklearn.svm import SVR\n",
    "from sklearn.neighbors import KNeighborsRegressor\n",
    "from sklearn.model_selection import train_test_split\n",
    "from sklearn.metrics import mean_squared_error, r2_score, mean_absolute_error\n",
    "from sklearn.preprocessing import MinMaxScaler\n",
    "import numpy as np\n",
    "\n",
    "\n",
    "def compare_models(X, y):\n",
    "    # Split the data first\n",
    "    X_train, X_test, y_train, y_test = train_test_split(X, y, test_size=0.3, random_state=42)\n",
    "    \n",
    "    # Scale the features using MinMaxScaler\n",
    "    scaler = MinMaxScaler()\n",
    "    X_train_scaled = scaler.fit_transform(X_train)\n",
    "    X_test_scaled = scaler.transform(X_test)\n",
    "    \n",
    "    # Initialize models\n",
    "    models = {\n",
    "        'Linear Regression': LinearRegression(),\n",
    "        'Random Forest': RandomForestRegressor(random_state=42),\n",
    "        #'XGBoost': xgb.XGBRegressor(random_state=42, colsample_bytree=1.0, gamma=0, learning_rate=0.3, max_depth=5, n_estimators=300, subsample=0.8),\n",
    "        'Gradient Boosting': GradientBoostingRegressor(random_state=42),\n",
    "        \n",
    "    }\n",
    "    \n",
    "    # Dictionary to store results\n",
    "    results = {}\n",
    "    \n",
    "    for name, model in models.items():\n",
    "        # Train the model\n",
    "        model.fit(X_train_scaled, y_train)\n",
    "        y_pred = model.predict(X_test_scaled)\n",
    "        \n",
    "        # Calculate metrics\n",
    "        mse = mean_squared_error(y_test, y_pred)\n",
    "        r2 = r2_score(y_test, y_pred)\n",
    "        mae = mean_absolute_error(y_test, y_pred)\n",
    "        rmse = np.sqrt(mse)\n",
    "        \n",
    "        # Store results\n",
    "        results[name] = {\n",
    "            'MSE': mse,\n",
    "            'R2': r2,\n",
    "            'MAE': mae,\n",
    "            'RMSE': rmse\n",
    "        }\n",
    "    \n",
    "    # Print results\n",
    "    for name, metrics in results.items():\n",
    "        print(f\"\\n{name} Results:\")\n",
    "        for metric, value in metrics.items():\n",
    "            print(f\"{metric}: {value:.4f}\")\n",
    "    \n",
    "    # Determine the best model\n",
    "    best_model = max(results, key=lambda x: results[x]['R2'])\n",
    "    print(f\"\\nBest model based on R2 score: {best_model}\")\n",
    "    \n",
    "    return results\n",
    "\n",
    "# Usage\n",
    "results = compare_models(X, y)"
   ]
  },
  {
   "cell_type": "markdown",
   "metadata": {},
   "source": [
    "### MODEL PICKLING"
   ]
  },
  {
   "cell_type": "code",
   "execution_count": 133,
   "metadata": {},
   "outputs": [
    {
     "data": {
      "text/plain": [
       "['gradientboost.pkl']"
      ]
     },
     "execution_count": 133,
     "metadata": {},
     "output_type": "execute_result"
    }
   ],
   "source": [
    "import joblib\n",
    "\n",
    "joblib.dump(gb_model, 'gradientboost.pkl')\n",
    "#joblib.dump(model, 'xgb_model.pkl')"
   ]
  },
  {
   "cell_type": "code",
   "execution_count": 134,
   "metadata": {},
   "outputs": [
    {
     "data": {
      "text/plain": [
       "['linarreg.pkl']"
      ]
     },
     "execution_count": 134,
     "metadata": {},
     "output_type": "execute_result"
    }
   ],
   "source": [
    "import joblib\n",
    "\n",
    "joblib.dump(models, 'linarreg.pkl')\n",
    "#joblib.dump(model, 'xgb_model.pkl')"
   ]
  },
  {
   "cell_type": "code",
   "execution_count": 71,
   "metadata": {},
   "outputs": [
    {
     "data": {
      "text/plain": [
       "['randomforest.pkl']"
      ]
     },
     "execution_count": 71,
     "metadata": {},
     "output_type": "execute_result"
    }
   ],
   "source": [
    "import joblib\n",
    "\n",
    "joblib.dump(model, 'randomforest.pkl')\n",
    "#joblib.dump(model, 'xgb_model.pkl')"
   ]
  },
  {
   "cell_type": "code",
   "execution_count": 136,
   "metadata": {},
   "outputs": [
    {
     "data": {
      "text/plain": [
       "['best_xgb_model.pkl']"
      ]
     },
     "execution_count": 136,
     "metadata": {},
     "output_type": "execute_result"
    }
   ],
   "source": [
    "import joblib\n",
    "\n",
    "joblib.dump(best_model, 'best_xgb_model.pkl')\n",
    "#joblib.dump(model, 'xgb_model.pkl')"
   ]
  },
  {
   "cell_type": "code",
   "execution_count": 249,
   "metadata": {},
   "outputs": [],
   "source": [
    "# import pickle\n",
    "\n",
    "# # ... (your existing code for encoding categorical data)\n",
    "\n",
    "# # Pickle each dictionary separately\n",
    "# for dictionary_name, dictionary in [(\"d_city\", d_city), (\"d_bodytype\", d_bodytype), (\"d_fueltype\", d_fueltype), (\"d_oem\", d_oem), (\"d_Insurance\", d_Insurance), (\"d_DriveType\", d_drivetype), (\"d_transmission\", d_transmission)]:\n",
    "#     filename = f\"{dictionary_name}.pkl\"\n",
    "#     with open(filename, \"wb\") as f:\n",
    "#         pickle.dump(dictionary, f)"
   ]
  },
  {
   "cell_type": "markdown",
   "metadata": {},
   "source": []
  },
  {
   "cell_type": "code",
   "execution_count": 137,
   "metadata": {},
   "outputs": [
    {
     "data": {
      "text/plain": [
       "['scaler.pkl']"
      ]
     },
     "execution_count": 137,
     "metadata": {},
     "output_type": "execute_result"
    }
   ],
   "source": [
    "from sklearn.preprocessing import MinMaxScaler\n",
    "import joblib\n",
    "\n",
    "\n",
    "joblib.dump(scaler, 'scaler.pkl')  # Save the scaler"
   ]
  },
  {
   "cell_type": "code",
   "execution_count": 140,
   "metadata": {},
   "outputs": [
    {
     "name": "stdout",
     "output_type": "stream",
     "text": [
      "['seats' 'kms' 'modelYear' 'ownerNo' 'engine_cc' 'Gearbox' 'Mileage'\n",
      " 'bodytype' 'fueltype_Diesel' 'fueltype_Electric' 'fueltype_Lpg'\n",
      " 'fueltype_Petrol' 'transmission_Manual' 'Insurance_Not Available'\n",
      " 'Insurance_Third Party' 'Insurance_Third Party insurance'\n",
      " 'Insurance_Zero Dep' 'oem_BMW' 'oem_Chevrolet' 'oem_Citroen' 'oem_Datsun'\n",
      " 'oem_Fiat' 'oem_Ford' 'oem_Hindustan Motors' 'oem_Honda' 'oem_Hyundai'\n",
      " 'oem_Isuzu' 'oem_Jaguar' 'oem_Jeep' 'oem_Kia' 'oem_Land Rover'\n",
      " 'oem_Lexus' 'oem_MG' 'oem_Mahindra' 'oem_Maruti' 'oem_Mercedes-Benz'\n",
      " 'oem_Mini' 'oem_Mitsubishi' 'oem_Nissan' 'oem_Opel' 'oem_Porsche'\n",
      " 'oem_Renault' 'oem_Skoda' 'oem_Ssangyong' 'oem_Tata' 'oem_Toyota'\n",
      " 'oem_Volkswagen' 'oem_Volvo' 'DriveType_AWD' 'DriveType_FWD'\n",
      " 'DriveType_RWD' 'city_chennai' 'city_delhi' 'city_hyderabad'\n",
      " 'city_jaipur' 'city_kolkata']\n"
     ]
    }
   ],
   "source": [
    "print(model.feature_names_in_)"
   ]
  },
  {
   "cell_type": "code",
   "execution_count": 145,
   "metadata": {},
   "outputs": [
    {
     "data": {
      "text/html": [
       "<div>\n",
       "<style scoped>\n",
       "    .dataframe tbody tr th:only-of-type {\n",
       "        vertical-align: middle;\n",
       "    }\n",
       "\n",
       "    .dataframe tbody tr th {\n",
       "        vertical-align: top;\n",
       "    }\n",
       "\n",
       "    .dataframe thead th {\n",
       "        text-align: right;\n",
       "    }\n",
       "</style>\n",
       "<table border=\"1\" class=\"dataframe\">\n",
       "  <thead>\n",
       "    <tr style=\"text-align: right;\">\n",
       "      <th></th>\n",
       "      <th>seats</th>\n",
       "      <th>kms</th>\n",
       "      <th>modelYear</th>\n",
       "      <th>ownerNo</th>\n",
       "      <th>engine_cc</th>\n",
       "      <th>Gearbox</th>\n",
       "      <th>Mileage</th>\n",
       "      <th>bodytype</th>\n",
       "      <th>fueltype_Diesel</th>\n",
       "      <th>fueltype_Electric</th>\n",
       "      <th>...</th>\n",
       "      <th>oem_Volkswagen</th>\n",
       "      <th>oem_Volvo</th>\n",
       "      <th>DriveType_AWD</th>\n",
       "      <th>DriveType_FWD</th>\n",
       "      <th>DriveType_RWD</th>\n",
       "      <th>city_chennai</th>\n",
       "      <th>city_delhi</th>\n",
       "      <th>city_hyderabad</th>\n",
       "      <th>city_jaipur</th>\n",
       "      <th>city_kolkata</th>\n",
       "    </tr>\n",
       "  </thead>\n",
       "  <tbody>\n",
       "    <tr>\n",
       "      <th>8365</th>\n",
       "      <td>0.625</td>\n",
       "      <td>0.153846</td>\n",
       "      <td>0.857143</td>\n",
       "      <td>0.333333</td>\n",
       "      <td>0.773585</td>\n",
       "      <td>0.333333</td>\n",
       "      <td>0.105435</td>\n",
       "      <td>6</td>\n",
       "      <td>1.0</td>\n",
       "      <td>0.0</td>\n",
       "      <td>...</td>\n",
       "      <td>0.0</td>\n",
       "      <td>0.0</td>\n",
       "      <td>0.0</td>\n",
       "      <td>0.0</td>\n",
       "      <td>0.0</td>\n",
       "      <td>0.0</td>\n",
       "      <td>0.0</td>\n",
       "      <td>0.0</td>\n",
       "      <td>0.0</td>\n",
       "      <td>1.0</td>\n",
       "    </tr>\n",
       "    <tr>\n",
       "      <th>3463</th>\n",
       "      <td>0.375</td>\n",
       "      <td>0.161538</td>\n",
       "      <td>0.857143</td>\n",
       "      <td>0.333333</td>\n",
       "      <td>0.476052</td>\n",
       "      <td>0.333333</td>\n",
       "      <td>0.448551</td>\n",
       "      <td>7</td>\n",
       "      <td>1.0</td>\n",
       "      <td>0.0</td>\n",
       "      <td>...</td>\n",
       "      <td>0.0</td>\n",
       "      <td>0.0</td>\n",
       "      <td>0.0</td>\n",
       "      <td>1.0</td>\n",
       "      <td>0.0</td>\n",
       "      <td>0.0</td>\n",
       "      <td>0.0</td>\n",
       "      <td>1.0</td>\n",
       "      <td>0.0</td>\n",
       "      <td>0.0</td>\n",
       "    </tr>\n",
       "    <tr>\n",
       "      <th>1477</th>\n",
       "      <td>0.375</td>\n",
       "      <td>0.269231</td>\n",
       "      <td>0.678571</td>\n",
       "      <td>0.666667</td>\n",
       "      <td>0.270924</td>\n",
       "      <td>0.166667</td>\n",
       "      <td>0.579710</td>\n",
       "      <td>2</td>\n",
       "      <td>1.0</td>\n",
       "      <td>0.0</td>\n",
       "      <td>...</td>\n",
       "      <td>0.0</td>\n",
       "      <td>0.0</td>\n",
       "      <td>0.0</td>\n",
       "      <td>1.0</td>\n",
       "      <td>0.0</td>\n",
       "      <td>0.0</td>\n",
       "      <td>0.0</td>\n",
       "      <td>0.0</td>\n",
       "      <td>0.0</td>\n",
       "      <td>0.0</td>\n",
       "    </tr>\n",
       "    <tr>\n",
       "      <th>7559</th>\n",
       "      <td>0.375</td>\n",
       "      <td>0.232819</td>\n",
       "      <td>0.678571</td>\n",
       "      <td>0.333333</td>\n",
       "      <td>0.262700</td>\n",
       "      <td>0.166667</td>\n",
       "      <td>0.359420</td>\n",
       "      <td>2</td>\n",
       "      <td>0.0</td>\n",
       "      <td>0.0</td>\n",
       "      <td>...</td>\n",
       "      <td>0.0</td>\n",
       "      <td>0.0</td>\n",
       "      <td>0.0</td>\n",
       "      <td>1.0</td>\n",
       "      <td>0.0</td>\n",
       "      <td>0.0</td>\n",
       "      <td>0.0</td>\n",
       "      <td>0.0</td>\n",
       "      <td>0.0</td>\n",
       "      <td>1.0</td>\n",
       "    </tr>\n",
       "    <tr>\n",
       "      <th>1173</th>\n",
       "      <td>0.625</td>\n",
       "      <td>0.269362</td>\n",
       "      <td>0.642857</td>\n",
       "      <td>0.333333</td>\n",
       "      <td>0.599178</td>\n",
       "      <td>0.166667</td>\n",
       "      <td>0.199275</td>\n",
       "      <td>6</td>\n",
       "      <td>1.0</td>\n",
       "      <td>0.0</td>\n",
       "      <td>...</td>\n",
       "      <td>0.0</td>\n",
       "      <td>0.0</td>\n",
       "      <td>0.0</td>\n",
       "      <td>0.0</td>\n",
       "      <td>0.0</td>\n",
       "      <td>1.0</td>\n",
       "      <td>0.0</td>\n",
       "      <td>0.0</td>\n",
       "      <td>0.0</td>\n",
       "      <td>0.0</td>\n",
       "    </tr>\n",
       "  </tbody>\n",
       "</table>\n",
       "<p>5 rows × 56 columns</p>\n",
       "</div>"
      ],
      "text/plain": [
       "      seats       kms  modelYear   ownerNo  engine_cc   Gearbox   Mileage  \\\n",
       "8365  0.625  0.153846   0.857143  0.333333   0.773585  0.333333  0.105435   \n",
       "3463  0.375  0.161538   0.857143  0.333333   0.476052  0.333333  0.448551   \n",
       "1477  0.375  0.269231   0.678571  0.666667   0.270924  0.166667  0.579710   \n",
       "7559  0.375  0.232819   0.678571  0.333333   0.262700  0.166667  0.359420   \n",
       "1173  0.625  0.269362   0.642857  0.333333   0.599178  0.166667  0.199275   \n",
       "\n",
       "      bodytype  fueltype_Diesel  fueltype_Electric  ...  oem_Volkswagen  \\\n",
       "8365         6              1.0                0.0  ...             0.0   \n",
       "3463         7              1.0                0.0  ...             0.0   \n",
       "1477         2              1.0                0.0  ...             0.0   \n",
       "7559         2              0.0                0.0  ...             0.0   \n",
       "1173         6              1.0                0.0  ...             0.0   \n",
       "\n",
       "      oem_Volvo  DriveType_AWD  DriveType_FWD  DriveType_RWD  city_chennai  \\\n",
       "8365        0.0            0.0            0.0            0.0           0.0   \n",
       "3463        0.0            0.0            1.0            0.0           0.0   \n",
       "1477        0.0            0.0            1.0            0.0           0.0   \n",
       "7559        0.0            0.0            1.0            0.0           0.0   \n",
       "1173        0.0            0.0            0.0            0.0           1.0   \n",
       "\n",
       "      city_delhi  city_hyderabad  city_jaipur  city_kolkata  \n",
       "8365         0.0             0.0          0.0           1.0  \n",
       "3463         0.0             1.0          0.0           0.0  \n",
       "1477         0.0             0.0          0.0           0.0  \n",
       "7559         0.0             0.0          0.0           1.0  \n",
       "1173         0.0             0.0          0.0           0.0  \n",
       "\n",
       "[5 rows x 56 columns]"
      ]
     },
     "execution_count": 145,
     "metadata": {},
     "output_type": "execute_result"
    }
   ],
   "source": [
    "X_train.head()"
   ]
  }
 ],
 "metadata": {
  "kernelspec": {
   "display_name": ".venv",
   "language": "python",
   "name": "python3"
  },
  "language_info": {
   "codemirror_mode": {
    "name": "ipython",
    "version": 3
   },
   "file_extension": ".py",
   "mimetype": "text/x-python",
   "name": "python",
   "nbconvert_exporter": "python",
   "pygments_lexer": "ipython3",
   "version": "3.13.0"
  }
 },
 "nbformat": 4,
 "nbformat_minor": 2
}
